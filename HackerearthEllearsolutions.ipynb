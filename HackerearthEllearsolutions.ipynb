{
  "nbformat": 4,
  "nbformat_minor": 0,
  "metadata": {
    "colab": {
      "name": "HackerearthEllearsolutions.ipynb",
      "provenance": []
    },
    "kernelspec": {
      "name": "python3",
      "display_name": "Python 3"
    },
    "language_info": {
      "name": "python"
    }
  },
  "cells": [
    {
      "cell_type": "code",
      "metadata": {
        "id": "nOZIXWRbPwsX"
      },
      "source": [
        "import pandas as pd\n",
        "import numpy as np\n",
        "import matplotlib.pyplot as plt\n",
        "import seaborn as sns\n",
        "from sklearn.model_selection import train_test_split\n",
        "from sklearn.metrics import r2_score\n",
        "from sklearn.linear_model import LinearRegression"
      ],
      "execution_count": 1,
      "outputs": []
    },
    {
      "cell_type": "code",
      "metadata": {
        "colab": {
          "base_uri": "https://localhost:8080/",
          "height": 203
        },
        "id": "0a2Uomz8QDtg",
        "outputId": "3b15dff0-ccdf-47ad-a399-7c130ba6d315"
      },
      "source": [
        "Data=pd.read_csv('commodityID_and_details.csv')\n",
        "Data.head()"
      ],
      "execution_count": 2,
      "outputs": [
        {
          "output_type": "execute_result",
          "data": {
            "text/html": [
              "<div>\n",
              "<style scoped>\n",
              "    .dataframe tbody tr th:only-of-type {\n",
              "        vertical-align: middle;\n",
              "    }\n",
              "\n",
              "    .dataframe tbody tr th {\n",
              "        vertical-align: top;\n",
              "    }\n",
              "\n",
              "    .dataframe thead th {\n",
              "        text-align: right;\n",
              "    }\n",
              "</style>\n",
              "<table border=\"1\" class=\"dataframe\">\n",
              "  <thead>\n",
              "    <tr style=\"text-align: right;\">\n",
              "      <th></th>\n",
              "      <th>CommodityID</th>\n",
              "      <th>Commodity_name</th>\n",
              "    </tr>\n",
              "  </thead>\n",
              "  <tbody>\n",
              "    <tr>\n",
              "      <th>0</th>\n",
              "      <td>CD1</td>\n",
              "      <td>Paddy</td>\n",
              "    </tr>\n",
              "    <tr>\n",
              "      <th>1</th>\n",
              "      <td>CD2</td>\n",
              "      <td>Wheat</td>\n",
              "    </tr>\n",
              "    <tr>\n",
              "      <th>2</th>\n",
              "      <td>CD3</td>\n",
              "      <td>Jowar</td>\n",
              "    </tr>\n",
              "    <tr>\n",
              "      <th>3</th>\n",
              "      <td>CD4</td>\n",
              "      <td>Pearl millet</td>\n",
              "    </tr>\n",
              "    <tr>\n",
              "      <th>4</th>\n",
              "      <td>CD5</td>\n",
              "      <td>Maize</td>\n",
              "    </tr>\n",
              "  </tbody>\n",
              "</table>\n",
              "</div>"
            ],
            "text/plain": [
              "  CommodityID Commodity_name\n",
              "0         CD1          Paddy\n",
              "1         CD2          Wheat\n",
              "2         CD3          Jowar\n",
              "3         CD4   Pearl millet\n",
              "4         CD5          Maize"
            ]
          },
          "metadata": {
            "tags": []
          },
          "execution_count": 2
        }
      ]
    },
    {
      "cell_type": "code",
      "metadata": {
        "colab": {
          "base_uri": "https://localhost:8080/",
          "height": 203
        },
        "id": "0kbp3pJ6QFwm",
        "outputId": "e89f1560-9793-45b8-be0c-5ba584620e35"
      },
      "source": [
        "Data1=pd.read_csv('sample_submission.csv')\n",
        "Data1.head()"
      ],
      "execution_count": 3,
      "outputs": [
        {
          "output_type": "execute_result",
          "data": {
            "text/html": [
              "<div>\n",
              "<style scoped>\n",
              "    .dataframe tbody tr th:only-of-type {\n",
              "        vertical-align: middle;\n",
              "    }\n",
              "\n",
              "    .dataframe tbody tr th {\n",
              "        vertical-align: top;\n",
              "    }\n",
              "\n",
              "    .dataframe thead th {\n",
              "        text-align: right;\n",
              "    }\n",
              "</style>\n",
              "<table border=\"1\" class=\"dataframe\">\n",
              "  <thead>\n",
              "    <tr style=\"text-align: right;\">\n",
              "      <th></th>\n",
              "      <th>Month-year</th>\n",
              "      <th>Commodity_name</th>\n",
              "      <th>Minimum support price (in Rs./Quintal)</th>\n",
              "    </tr>\n",
              "  </thead>\n",
              "  <tbody>\n",
              "    <tr>\n",
              "      <th>0</th>\n",
              "      <td>2020-06-01</td>\n",
              "      <td>Paddy</td>\n",
              "      <td>6144</td>\n",
              "    </tr>\n",
              "    <tr>\n",
              "      <th>1</th>\n",
              "      <td>2013-10-01</td>\n",
              "      <td>Wheat</td>\n",
              "      <td>6564</td>\n",
              "    </tr>\n",
              "    <tr>\n",
              "      <th>2</th>\n",
              "      <td>2017-01-01</td>\n",
              "      <td>Jowar</td>\n",
              "      <td>2440</td>\n",
              "    </tr>\n",
              "    <tr>\n",
              "      <th>3</th>\n",
              "      <td>2016-07-01</td>\n",
              "      <td>Pearl millet</td>\n",
              "      <td>1546</td>\n",
              "    </tr>\n",
              "    <tr>\n",
              "      <th>4</th>\n",
              "      <td>2014-04-01</td>\n",
              "      <td>Maize</td>\n",
              "      <td>8749</td>\n",
              "    </tr>\n",
              "  </tbody>\n",
              "</table>\n",
              "</div>"
            ],
            "text/plain": [
              "   Month-year Commodity_name  Minimum support price (in Rs./Quintal)\n",
              "0  2020-06-01          Paddy                                    6144\n",
              "1  2013-10-01          Wheat                                    6564\n",
              "2  2017-01-01          Jowar                                    2440\n",
              "3  2016-07-01   Pearl millet                                    1546\n",
              "4  2014-04-01          Maize                                    8749"
            ]
          },
          "metadata": {
            "tags": []
          },
          "execution_count": 3
        }
      ]
    },
    {
      "cell_type": "code",
      "metadata": {
        "colab": {
          "base_uri": "https://localhost:8080/",
          "height": 203
        },
        "id": "kQl0msY4QGCc",
        "outputId": "40e43724-08ac-4f97-d978-f8f9e292ebd1"
      },
      "source": [
        "Data2=pd.read_csv('test.csv')\n",
        "Data2.head()"
      ],
      "execution_count": 4,
      "outputs": [
        {
          "output_type": "execute_result",
          "data": {
            "text/html": [
              "<div>\n",
              "<style scoped>\n",
              "    .dataframe tbody tr th:only-of-type {\n",
              "        vertical-align: middle;\n",
              "    }\n",
              "\n",
              "    .dataframe tbody tr th {\n",
              "        vertical-align: top;\n",
              "    }\n",
              "\n",
              "    .dataframe thead th {\n",
              "        text-align: right;\n",
              "    }\n",
              "</style>\n",
              "<table border=\"1\" class=\"dataframe\">\n",
              "  <thead>\n",
              "    <tr style=\"text-align: right;\">\n",
              "      <th></th>\n",
              "      <th>Month-year</th>\n",
              "      <th>Commodity_name</th>\n",
              "    </tr>\n",
              "  </thead>\n",
              "  <tbody>\n",
              "    <tr>\n",
              "      <th>0</th>\n",
              "      <td>2020-03-02</td>\n",
              "      <td>Tomato</td>\n",
              "    </tr>\n",
              "    <tr>\n",
              "      <th>1</th>\n",
              "      <td>2021-05-20</td>\n",
              "      <td>Radish</td>\n",
              "    </tr>\n",
              "    <tr>\n",
              "      <th>2</th>\n",
              "      <td>2020-10-27</td>\n",
              "      <td>Spray Chrysanthemum</td>\n",
              "    </tr>\n",
              "    <tr>\n",
              "      <th>3</th>\n",
              "      <td>2021-12-22</td>\n",
              "      <td>Brinjal</td>\n",
              "    </tr>\n",
              "    <tr>\n",
              "      <th>4</th>\n",
              "      <td>2021-10-14</td>\n",
              "      <td>Ginger</td>\n",
              "    </tr>\n",
              "  </tbody>\n",
              "</table>\n",
              "</div>"
            ],
            "text/plain": [
              "   Month-year       Commodity_name\n",
              "0  2020-03-02               Tomato\n",
              "1  2021-05-20               Radish\n",
              "2  2020-10-27  Spray Chrysanthemum\n",
              "3  2021-12-22              Brinjal\n",
              "4  2021-10-14               Ginger"
            ]
          },
          "metadata": {
            "tags": []
          },
          "execution_count": 4
        }
      ]
    },
    {
      "cell_type": "code",
      "metadata": {
        "colab": {
          "base_uri": "https://localhost:8080/",
          "height": 338
        },
        "id": "ayxEhkUvQJQZ",
        "outputId": "379a44b1-bcb7-4b96-d289-40daea43e508"
      },
      "source": [
        "Data3=pd.read_csv('train.csv')\n",
        "Data3.head()"
      ],
      "execution_count": 5,
      "outputs": [
        {
          "output_type": "execute_result",
          "data": {
            "text/html": [
              "<div>\n",
              "<style scoped>\n",
              "    .dataframe tbody tr th:only-of-type {\n",
              "        vertical-align: middle;\n",
              "    }\n",
              "\n",
              "    .dataframe tbody tr th {\n",
              "        vertical-align: top;\n",
              "    }\n",
              "\n",
              "    .dataframe thead th {\n",
              "        text-align: right;\n",
              "    }\n",
              "</style>\n",
              "<table border=\"1\" class=\"dataframe\">\n",
              "  <thead>\n",
              "    <tr style=\"text-align: right;\">\n",
              "      <th></th>\n",
              "      <th>Month-year</th>\n",
              "      <th>CommodityID</th>\n",
              "      <th>Production weight (in million tonnes)</th>\n",
              "      <th>Labour_availability</th>\n",
              "      <th>Govt_policy_change</th>\n",
              "      <th>Demand</th>\n",
              "      <th>Cost of production</th>\n",
              "      <th>Climatic factor 1</th>\n",
              "      <th>Climatic factor 2</th>\n",
              "      <th>Maximum price per kg</th>\n",
              "      <th>Minimum support price (in Rs./Quintal)</th>\n",
              "    </tr>\n",
              "  </thead>\n",
              "  <tbody>\n",
              "    <tr>\n",
              "      <th>0</th>\n",
              "      <td>2020-06-01</td>\n",
              "      <td>CD117</td>\n",
              "      <td>42.65</td>\n",
              "      <td>Moderate</td>\n",
              "      <td>No</td>\n",
              "      <td>Low</td>\n",
              "      <td>68577.0</td>\n",
              "      <td>0</td>\n",
              "      <td>1</td>\n",
              "      <td>4407.0</td>\n",
              "      <td>6144</td>\n",
              "    </tr>\n",
              "    <tr>\n",
              "      <th>1</th>\n",
              "      <td>2013-10-01</td>\n",
              "      <td>CD71</td>\n",
              "      <td>93.96</td>\n",
              "      <td>Abundant</td>\n",
              "      <td>Yes</td>\n",
              "      <td>Short-run</td>\n",
              "      <td>12263.0</td>\n",
              "      <td>0</td>\n",
              "      <td>1</td>\n",
              "      <td>291.0</td>\n",
              "      <td>6564</td>\n",
              "    </tr>\n",
              "    <tr>\n",
              "      <th>2</th>\n",
              "      <td>2017-01-01</td>\n",
              "      <td>CD101</td>\n",
              "      <td>49.28</td>\n",
              "      <td>Moderate</td>\n",
              "      <td>No</td>\n",
              "      <td>Long-run</td>\n",
              "      <td>34924.0</td>\n",
              "      <td>0</td>\n",
              "      <td>1</td>\n",
              "      <td>1973.0</td>\n",
              "      <td>2440</td>\n",
              "    </tr>\n",
              "    <tr>\n",
              "      <th>3</th>\n",
              "      <td>2016-07-01</td>\n",
              "      <td>CD132</td>\n",
              "      <td>61.08</td>\n",
              "      <td>Moderate</td>\n",
              "      <td>No</td>\n",
              "      <td>Long-run</td>\n",
              "      <td>92940.0</td>\n",
              "      <td>1</td>\n",
              "      <td>0</td>\n",
              "      <td>782.0</td>\n",
              "      <td>1546</td>\n",
              "    </tr>\n",
              "    <tr>\n",
              "      <th>4</th>\n",
              "      <td>2014-04-01</td>\n",
              "      <td>CD76</td>\n",
              "      <td>49.91</td>\n",
              "      <td>Low</td>\n",
              "      <td>No</td>\n",
              "      <td>Very-low</td>\n",
              "      <td>64748.0</td>\n",
              "      <td>1</td>\n",
              "      <td>0</td>\n",
              "      <td>1713.0</td>\n",
              "      <td>8749</td>\n",
              "    </tr>\n",
              "  </tbody>\n",
              "</table>\n",
              "</div>"
            ],
            "text/plain": [
              "   Month-year  ... Minimum support price (in Rs./Quintal)\n",
              "0  2020-06-01  ...                                   6144\n",
              "1  2013-10-01  ...                                   6564\n",
              "2  2017-01-01  ...                                   2440\n",
              "3  2016-07-01  ...                                   1546\n",
              "4  2014-04-01  ...                                   8749\n",
              "\n",
              "[5 rows x 11 columns]"
            ]
          },
          "metadata": {
            "tags": []
          },
          "execution_count": 5
        }
      ]
    },
    {
      "cell_type": "code",
      "metadata": {
        "colab": {
          "base_uri": "https://localhost:8080/",
          "height": 203
        },
        "id": "Cb5Pxfd8QLwS",
        "outputId": "b9cc6278-c42a-4f1a-f411-b727b6cfc6c4"
      },
      "source": [
        "Data4=pd.read_csv('wpi_and_inflation.csv')\n",
        "Data4.head()"
      ],
      "execution_count": 6,
      "outputs": [
        {
          "output_type": "execute_result",
          "data": {
            "text/html": [
              "<div>\n",
              "<style scoped>\n",
              "    .dataframe tbody tr th:only-of-type {\n",
              "        vertical-align: middle;\n",
              "    }\n",
              "\n",
              "    .dataframe tbody tr th {\n",
              "        vertical-align: top;\n",
              "    }\n",
              "\n",
              "    .dataframe thead th {\n",
              "        text-align: right;\n",
              "    }\n",
              "</style>\n",
              "<table border=\"1\" class=\"dataframe\">\n",
              "  <thead>\n",
              "    <tr style=\"text-align: right;\">\n",
              "      <th></th>\n",
              "      <th>CommodityID</th>\n",
              "      <th>Month-year</th>\n",
              "      <th>Wholesale Price Index</th>\n",
              "      <th>Inflation (CPI) %</th>\n",
              "    </tr>\n",
              "  </thead>\n",
              "  <tbody>\n",
              "    <tr>\n",
              "      <th>0</th>\n",
              "      <td>CD82</td>\n",
              "      <td>2017-11-01</td>\n",
              "      <td>134.2</td>\n",
              "      <td>0.45</td>\n",
              "    </tr>\n",
              "    <tr>\n",
              "      <th>1</th>\n",
              "      <td>CD11</td>\n",
              "      <td>2017-02-01</td>\n",
              "      <td>129.7</td>\n",
              "      <td>0.45</td>\n",
              "    </tr>\n",
              "    <tr>\n",
              "      <th>2</th>\n",
              "      <td>CD42</td>\n",
              "      <td>2015-06-01</td>\n",
              "      <td>93.3</td>\n",
              "      <td>0.45</td>\n",
              "    </tr>\n",
              "    <tr>\n",
              "      <th>3</th>\n",
              "      <td>CD11</td>\n",
              "      <td>2020-01-01</td>\n",
              "      <td>128.1</td>\n",
              "      <td>0.42</td>\n",
              "    </tr>\n",
              "    <tr>\n",
              "      <th>4</th>\n",
              "      <td>CD31</td>\n",
              "      <td>2017-10-01</td>\n",
              "      <td>137.3</td>\n",
              "      <td>1.18</td>\n",
              "    </tr>\n",
              "  </tbody>\n",
              "</table>\n",
              "</div>"
            ],
            "text/plain": [
              "  CommodityID  Month-year  Wholesale Price Index  Inflation (CPI) %\n",
              "0        CD82  2017-11-01                  134.2               0.45\n",
              "1        CD11  2017-02-01                  129.7               0.45\n",
              "2        CD42  2015-06-01                   93.3               0.45\n",
              "3        CD11  2020-01-01                  128.1               0.42\n",
              "4        CD31  2017-10-01                  137.3               1.18"
            ]
          },
          "metadata": {
            "tags": []
          },
          "execution_count": 6
        }
      ]
    },
    {
      "cell_type": "code",
      "metadata": {
        "id": "iKKX0WvtQNjI"
      },
      "source": [
        "df=pd.DataFrame(Data)\n",
        "df1=pd.DataFrame(Data1)\n",
        "df2=pd.DataFrame(Data2)\n",
        "df3=pd.DataFrame(Data3)\n",
        "df4=pd.DataFrame(Data4)"
      ],
      "execution_count": 7,
      "outputs": []
    },
    {
      "cell_type": "code",
      "metadata": {
        "colab": {
          "base_uri": "https://localhost:8080/",
          "height": 203
        },
        "id": "l68koYl-QPNv",
        "outputId": "dd6670d5-d62b-410d-d776-7216709447b3"
      },
      "source": [
        "df.head()"
      ],
      "execution_count": 8,
      "outputs": [
        {
          "output_type": "execute_result",
          "data": {
            "text/html": [
              "<div>\n",
              "<style scoped>\n",
              "    .dataframe tbody tr th:only-of-type {\n",
              "        vertical-align: middle;\n",
              "    }\n",
              "\n",
              "    .dataframe tbody tr th {\n",
              "        vertical-align: top;\n",
              "    }\n",
              "\n",
              "    .dataframe thead th {\n",
              "        text-align: right;\n",
              "    }\n",
              "</style>\n",
              "<table border=\"1\" class=\"dataframe\">\n",
              "  <thead>\n",
              "    <tr style=\"text-align: right;\">\n",
              "      <th></th>\n",
              "      <th>CommodityID</th>\n",
              "      <th>Commodity_name</th>\n",
              "    </tr>\n",
              "  </thead>\n",
              "  <tbody>\n",
              "    <tr>\n",
              "      <th>0</th>\n",
              "      <td>CD1</td>\n",
              "      <td>Paddy</td>\n",
              "    </tr>\n",
              "    <tr>\n",
              "      <th>1</th>\n",
              "      <td>CD2</td>\n",
              "      <td>Wheat</td>\n",
              "    </tr>\n",
              "    <tr>\n",
              "      <th>2</th>\n",
              "      <td>CD3</td>\n",
              "      <td>Jowar</td>\n",
              "    </tr>\n",
              "    <tr>\n",
              "      <th>3</th>\n",
              "      <td>CD4</td>\n",
              "      <td>Pearl millet</td>\n",
              "    </tr>\n",
              "    <tr>\n",
              "      <th>4</th>\n",
              "      <td>CD5</td>\n",
              "      <td>Maize</td>\n",
              "    </tr>\n",
              "  </tbody>\n",
              "</table>\n",
              "</div>"
            ],
            "text/plain": [
              "  CommodityID Commodity_name\n",
              "0         CD1          Paddy\n",
              "1         CD2          Wheat\n",
              "2         CD3          Jowar\n",
              "3         CD4   Pearl millet\n",
              "4         CD5          Maize"
            ]
          },
          "metadata": {
            "tags": []
          },
          "execution_count": 8
        }
      ]
    },
    {
      "cell_type": "code",
      "metadata": {
        "colab": {
          "base_uri": "https://localhost:8080/",
          "height": 655
        },
        "id": "922kedr9QQnP",
        "outputId": "82363914-8d08-459b-9f86-e186487d634b"
      },
      "source": [
        "df3['Commodity_name'] = df3['CommodityID'].map(df.set_index('CommodityID')['Commodity_name'])\n",
        "df3"
      ],
      "execution_count": 9,
      "outputs": [
        {
          "output_type": "execute_result",
          "data": {
            "text/html": [
              "<div>\n",
              "<style scoped>\n",
              "    .dataframe tbody tr th:only-of-type {\n",
              "        vertical-align: middle;\n",
              "    }\n",
              "\n",
              "    .dataframe tbody tr th {\n",
              "        vertical-align: top;\n",
              "    }\n",
              "\n",
              "    .dataframe thead th {\n",
              "        text-align: right;\n",
              "    }\n",
              "</style>\n",
              "<table border=\"1\" class=\"dataframe\">\n",
              "  <thead>\n",
              "    <tr style=\"text-align: right;\">\n",
              "      <th></th>\n",
              "      <th>Month-year</th>\n",
              "      <th>CommodityID</th>\n",
              "      <th>Production weight (in million tonnes)</th>\n",
              "      <th>Labour_availability</th>\n",
              "      <th>Govt_policy_change</th>\n",
              "      <th>Demand</th>\n",
              "      <th>Cost of production</th>\n",
              "      <th>Climatic factor 1</th>\n",
              "      <th>Climatic factor 2</th>\n",
              "      <th>Maximum price per kg</th>\n",
              "      <th>Minimum support price (in Rs./Quintal)</th>\n",
              "      <th>Commodity_name</th>\n",
              "    </tr>\n",
              "  </thead>\n",
              "  <tbody>\n",
              "    <tr>\n",
              "      <th>0</th>\n",
              "      <td>2020-06-01</td>\n",
              "      <td>CD117</td>\n",
              "      <td>42.65</td>\n",
              "      <td>Moderate</td>\n",
              "      <td>No</td>\n",
              "      <td>Low</td>\n",
              "      <td>68577.0</td>\n",
              "      <td>0</td>\n",
              "      <td>1</td>\n",
              "      <td>4407.0</td>\n",
              "      <td>6144</td>\n",
              "      <td>Gladiolus</td>\n",
              "    </tr>\n",
              "    <tr>\n",
              "      <th>1</th>\n",
              "      <td>2013-10-01</td>\n",
              "      <td>CD71</td>\n",
              "      <td>93.96</td>\n",
              "      <td>Abundant</td>\n",
              "      <td>Yes</td>\n",
              "      <td>Short-run</td>\n",
              "      <td>12263.0</td>\n",
              "      <td>0</td>\n",
              "      <td>1</td>\n",
              "      <td>291.0</td>\n",
              "      <td>6564</td>\n",
              "      <td>Raw cotton</td>\n",
              "    </tr>\n",
              "    <tr>\n",
              "      <th>2</th>\n",
              "      <td>2017-01-01</td>\n",
              "      <td>CD101</td>\n",
              "      <td>49.28</td>\n",
              "      <td>Moderate</td>\n",
              "      <td>No</td>\n",
              "      <td>Long-run</td>\n",
              "      <td>34924.0</td>\n",
              "      <td>0</td>\n",
              "      <td>1</td>\n",
              "      <td>1973.0</td>\n",
              "      <td>2440</td>\n",
              "      <td>Pongam seeds</td>\n",
              "    </tr>\n",
              "    <tr>\n",
              "      <th>3</th>\n",
              "      <td>2016-07-01</td>\n",
              "      <td>CD132</td>\n",
              "      <td>61.08</td>\n",
              "      <td>Moderate</td>\n",
              "      <td>No</td>\n",
              "      <td>Long-run</td>\n",
              "      <td>92940.0</td>\n",
              "      <td>1</td>\n",
              "      <td>0</td>\n",
              "      <td>782.0</td>\n",
              "      <td>1546</td>\n",
              "      <td>Safed Musli</td>\n",
              "    </tr>\n",
              "    <tr>\n",
              "      <th>4</th>\n",
              "      <td>2014-04-01</td>\n",
              "      <td>CD76</td>\n",
              "      <td>49.91</td>\n",
              "      <td>Low</td>\n",
              "      <td>No</td>\n",
              "      <td>Very-low</td>\n",
              "      <td>64748.0</td>\n",
              "      <td>1</td>\n",
              "      <td>0</td>\n",
              "      <td>1713.0</td>\n",
              "      <td>8749</td>\n",
              "      <td>Groundnut seed</td>\n",
              "    </tr>\n",
              "    <tr>\n",
              "      <th>...</th>\n",
              "      <td>...</td>\n",
              "      <td>...</td>\n",
              "      <td>...</td>\n",
              "      <td>...</td>\n",
              "      <td>...</td>\n",
              "      <td>...</td>\n",
              "      <td>...</td>\n",
              "      <td>...</td>\n",
              "      <td>...</td>\n",
              "      <td>...</td>\n",
              "      <td>...</td>\n",
              "      <td>...</td>\n",
              "    </tr>\n",
              "    <tr>\n",
              "      <th>6995</th>\n",
              "      <td>2019-10-01</td>\n",
              "      <td>CD109</td>\n",
              "      <td>70.50</td>\n",
              "      <td>Low</td>\n",
              "      <td>Yes</td>\n",
              "      <td>Long-run</td>\n",
              "      <td>77056.0</td>\n",
              "      <td>0</td>\n",
              "      <td>0</td>\n",
              "      <td>2467.0</td>\n",
              "      <td>2779</td>\n",
              "      <td>Bamboo</td>\n",
              "    </tr>\n",
              "    <tr>\n",
              "      <th>6996</th>\n",
              "      <td>2017-01-01</td>\n",
              "      <td>CD100</td>\n",
              "      <td>67.49</td>\n",
              "      <td>Moderate</td>\n",
              "      <td>No</td>\n",
              "      <td>Low</td>\n",
              "      <td>17948.0</td>\n",
              "      <td>1</td>\n",
              "      <td>1</td>\n",
              "      <td>1149.0</td>\n",
              "      <td>2308</td>\n",
              "      <td>Nigar Seed</td>\n",
              "    </tr>\n",
              "    <tr>\n",
              "      <th>6997</th>\n",
              "      <td>2018-09-01</td>\n",
              "      <td>CD92</td>\n",
              "      <td>84.51</td>\n",
              "      <td>Low</td>\n",
              "      <td>Yes</td>\n",
              "      <td>Short-run</td>\n",
              "      <td>47398.0</td>\n",
              "      <td>0</td>\n",
              "      <td>1</td>\n",
              "      <td>5046.0</td>\n",
              "      <td>8097</td>\n",
              "      <td>Chromite</td>\n",
              "    </tr>\n",
              "    <tr>\n",
              "      <th>6998</th>\n",
              "      <td>2015-03-01</td>\n",
              "      <td>CD78</td>\n",
              "      <td>35.21</td>\n",
              "      <td>Abundant</td>\n",
              "      <td>No</td>\n",
              "      <td>Very-low</td>\n",
              "      <td>69474.0</td>\n",
              "      <td>0</td>\n",
              "      <td>0</td>\n",
              "      <td>3407.0</td>\n",
              "      <td>3454</td>\n",
              "      <td>Sesamum</td>\n",
              "    </tr>\n",
              "    <tr>\n",
              "      <th>6999</th>\n",
              "      <td>2019-05-01</td>\n",
              "      <td>CD65</td>\n",
              "      <td>51.92</td>\n",
              "      <td>Moderate</td>\n",
              "      <td>No</td>\n",
              "      <td>Long-run</td>\n",
              "      <td>84920.0</td>\n",
              "      <td>1</td>\n",
              "      <td>1</td>\n",
              "      <td>485.0</td>\n",
              "      <td>8619</td>\n",
              "      <td>Corinander</td>\n",
              "    </tr>\n",
              "  </tbody>\n",
              "</table>\n",
              "<p>7000 rows × 12 columns</p>\n",
              "</div>"
            ],
            "text/plain": [
              "      Month-year  ...  Commodity_name\n",
              "0     2020-06-01  ...       Gladiolus\n",
              "1     2013-10-01  ...      Raw cotton\n",
              "2     2017-01-01  ...    Pongam seeds\n",
              "3     2016-07-01  ...     Safed Musli\n",
              "4     2014-04-01  ...  Groundnut seed\n",
              "...          ...  ...             ...\n",
              "6995  2019-10-01  ...          Bamboo\n",
              "6996  2017-01-01  ...      Nigar Seed\n",
              "6997  2018-09-01  ...        Chromite\n",
              "6998  2015-03-01  ...         Sesamum\n",
              "6999  2019-05-01  ...      Corinander\n",
              "\n",
              "[7000 rows x 12 columns]"
            ]
          },
          "metadata": {
            "tags": []
          },
          "execution_count": 9
        }
      ]
    },
    {
      "cell_type": "code",
      "metadata": {
        "colab": {
          "base_uri": "https://localhost:8080/",
          "height": 417
        },
        "id": "sSpmXgxeQSqf",
        "outputId": "2b0aa184-a3b9-477e-b30e-a49ce0e7b475"
      },
      "source": [
        "df3.drop(['Production weight (in million tonnes)','Labour_availability','Govt_policy_change','Demand','Cost of production','Climatic factor 1','Climatic factor 2','Maximum price per kg'],axis=1,inplace=True)\n",
        "df3"
      ],
      "execution_count": 10,
      "outputs": [
        {
          "output_type": "execute_result",
          "data": {
            "text/html": [
              "<div>\n",
              "<style scoped>\n",
              "    .dataframe tbody tr th:only-of-type {\n",
              "        vertical-align: middle;\n",
              "    }\n",
              "\n",
              "    .dataframe tbody tr th {\n",
              "        vertical-align: top;\n",
              "    }\n",
              "\n",
              "    .dataframe thead th {\n",
              "        text-align: right;\n",
              "    }\n",
              "</style>\n",
              "<table border=\"1\" class=\"dataframe\">\n",
              "  <thead>\n",
              "    <tr style=\"text-align: right;\">\n",
              "      <th></th>\n",
              "      <th>Month-year</th>\n",
              "      <th>CommodityID</th>\n",
              "      <th>Minimum support price (in Rs./Quintal)</th>\n",
              "      <th>Commodity_name</th>\n",
              "    </tr>\n",
              "  </thead>\n",
              "  <tbody>\n",
              "    <tr>\n",
              "      <th>0</th>\n",
              "      <td>2020-06-01</td>\n",
              "      <td>CD117</td>\n",
              "      <td>6144</td>\n",
              "      <td>Gladiolus</td>\n",
              "    </tr>\n",
              "    <tr>\n",
              "      <th>1</th>\n",
              "      <td>2013-10-01</td>\n",
              "      <td>CD71</td>\n",
              "      <td>6564</td>\n",
              "      <td>Raw cotton</td>\n",
              "    </tr>\n",
              "    <tr>\n",
              "      <th>2</th>\n",
              "      <td>2017-01-01</td>\n",
              "      <td>CD101</td>\n",
              "      <td>2440</td>\n",
              "      <td>Pongam seeds</td>\n",
              "    </tr>\n",
              "    <tr>\n",
              "      <th>3</th>\n",
              "      <td>2016-07-01</td>\n",
              "      <td>CD132</td>\n",
              "      <td>1546</td>\n",
              "      <td>Safed Musli</td>\n",
              "    </tr>\n",
              "    <tr>\n",
              "      <th>4</th>\n",
              "      <td>2014-04-01</td>\n",
              "      <td>CD76</td>\n",
              "      <td>8749</td>\n",
              "      <td>Groundnut seed</td>\n",
              "    </tr>\n",
              "    <tr>\n",
              "      <th>...</th>\n",
              "      <td>...</td>\n",
              "      <td>...</td>\n",
              "      <td>...</td>\n",
              "      <td>...</td>\n",
              "    </tr>\n",
              "    <tr>\n",
              "      <th>6995</th>\n",
              "      <td>2019-10-01</td>\n",
              "      <td>CD109</td>\n",
              "      <td>2779</td>\n",
              "      <td>Bamboo</td>\n",
              "    </tr>\n",
              "    <tr>\n",
              "      <th>6996</th>\n",
              "      <td>2017-01-01</td>\n",
              "      <td>CD100</td>\n",
              "      <td>2308</td>\n",
              "      <td>Nigar Seed</td>\n",
              "    </tr>\n",
              "    <tr>\n",
              "      <th>6997</th>\n",
              "      <td>2018-09-01</td>\n",
              "      <td>CD92</td>\n",
              "      <td>8097</td>\n",
              "      <td>Chromite</td>\n",
              "    </tr>\n",
              "    <tr>\n",
              "      <th>6998</th>\n",
              "      <td>2015-03-01</td>\n",
              "      <td>CD78</td>\n",
              "      <td>3454</td>\n",
              "      <td>Sesamum</td>\n",
              "    </tr>\n",
              "    <tr>\n",
              "      <th>6999</th>\n",
              "      <td>2019-05-01</td>\n",
              "      <td>CD65</td>\n",
              "      <td>8619</td>\n",
              "      <td>Corinander</td>\n",
              "    </tr>\n",
              "  </tbody>\n",
              "</table>\n",
              "<p>7000 rows × 4 columns</p>\n",
              "</div>"
            ],
            "text/plain": [
              "      Month-year  ...  Commodity_name\n",
              "0     2020-06-01  ...       Gladiolus\n",
              "1     2013-10-01  ...      Raw cotton\n",
              "2     2017-01-01  ...    Pongam seeds\n",
              "3     2016-07-01  ...     Safed Musli\n",
              "4     2014-04-01  ...  Groundnut seed\n",
              "...          ...  ...             ...\n",
              "6995  2019-10-01  ...          Bamboo\n",
              "6996  2017-01-01  ...      Nigar Seed\n",
              "6997  2018-09-01  ...        Chromite\n",
              "6998  2015-03-01  ...         Sesamum\n",
              "6999  2019-05-01  ...      Corinander\n",
              "\n",
              "[7000 rows x 4 columns]"
            ]
          },
          "metadata": {
            "tags": []
          },
          "execution_count": 10
        }
      ]
    },
    {
      "cell_type": "code",
      "metadata": {
        "id": "1jvl50JSQV4a"
      },
      "source": [
        "from sklearn.preprocessing import LabelEncoder\n",
        "ID=LabelEncoder()\n",
        "Name=LabelEncoder()\n",
        "Monthyear=LabelEncoder()\n",
        "df3['ID']=ID.fit_transform(df3['CommodityID'])\n",
        "df3['Name']=Name.fit_transform(df3['Commodity_name'])\n",
        "df3['Monthyear']=Monthyear.fit_transform(df3['Month-year'])\n",
        "df3.drop(['Month-year','CommodityID','Commodity_name'],axis=1,inplace=True)"
      ],
      "execution_count": 13,
      "outputs": []
    },
    {
      "cell_type": "code",
      "metadata": {
        "colab": {
          "base_uri": "https://localhost:8080/"
        },
        "id": "MGYXjRDlQps2",
        "outputId": "d903b118-caab-43e7-a34a-c47f15a049a6"
      },
      "source": [
        "X=df3.drop(['Minimum support price (in Rs./Quintal)'],axis=1)\n",
        "Y=df3.iloc[:,0]\n",
        "print(X)\n",
        "print(Y)"
      ],
      "execution_count": 14,
      "outputs": [
        {
          "output_type": "stream",
          "text": [
            "       ID  Name  Monthyear\n",
            "0      20    50        101\n",
            "1     111   106         21\n",
            "2       3    96         60\n",
            "3      37   114         54\n",
            "4     116    54         27\n",
            "...   ...   ...        ...\n",
            "6995   11     6         93\n",
            "6996    2    82         60\n",
            "6997  134    29         80\n",
            "6998  118   120         38\n",
            "6999  104    36         88\n",
            "\n",
            "[7000 rows x 3 columns]\n",
            "0       6144\n",
            "1       6564\n",
            "2       2440\n",
            "3       1546\n",
            "4       8749\n",
            "        ... \n",
            "6995    2779\n",
            "6996    2308\n",
            "6997    8097\n",
            "6998    3454\n",
            "6999    8619\n",
            "Name: Minimum support price (in Rs./Quintal), Length: 7000, dtype: int64\n"
          ],
          "name": "stdout"
        }
      ]
    },
    {
      "cell_type": "code",
      "metadata": {
        "id": "8Xib1_BmQx37"
      },
      "source": [
        "X_train,X_test,y_train,y_test=train_test_split(X,Y,test_size=0.20,random_state=0)"
      ],
      "execution_count": 15,
      "outputs": []
    },
    {
      "cell_type": "code",
      "metadata": {
        "colab": {
          "base_uri": "https://localhost:8080/"
        },
        "id": "OrIWwiqtQ2bn",
        "outputId": "4b40a277-6654-4850-bde0-b91bf6c6a693"
      },
      "source": [
        "model=LinearRegression()\n",
        "model.fit(X_train,y_train)\n",
        "y_pred = model.predict(X_test)\n",
        "train_score=model.score(X_train,y_train)\n",
        "print(y_pred)\n",
        "print(train_score)"
      ],
      "execution_count": 16,
      "outputs": [
        {
          "output_type": "stream",
          "text": [
            "[5190.78130546 5180.47659042 5142.63440013 ... 5189.49244732 5129.67590292\n",
            " 5150.03871926]\n",
            "7.141558478851451e-05\n"
          ],
          "name": "stdout"
        }
      ]
    },
    {
      "cell_type": "code",
      "metadata": {
        "colab": {
          "base_uri": "https://localhost:8080/"
        },
        "id": "RZ8nnz4qQ38u",
        "outputId": "4f85a34c-3dbc-441a-81da-c1f5c2b7898b"
      },
      "source": [
        "from sklearn.metrics import mean_absolute_error,mean_squared_error,mean_squared_log_error\n",
        "print('Mean Absolute Error:%.3f' % mean_absolute_error(y_test, y_pred))\n",
        "print('Mean Squared Error:%.3f' % mean_squared_error(y_test, y_pred))\n",
        "print('Root Mean Squared Error:%.3f' % np.sqrt(mean_squared_error(y_test, y_pred)))"
      ],
      "execution_count": 17,
      "outputs": [
        {
          "output_type": "stream",
          "text": [
            "Mean Absolute Error:1933.380\n",
            "Mean Squared Error:4964904.351\n",
            "Root Mean Squared Error:2228.207\n"
          ],
          "name": "stdout"
        }
      ]
    },
    {
      "cell_type": "code",
      "metadata": {
        "colab": {
          "base_uri": "https://localhost:8080/"
        },
        "id": "ywtRCnNaSIPz",
        "outputId": "288618c2-a872-4260-8a0d-3f90498d130a"
      },
      "source": [
        "ans=100*max(0,1-mean_squared_log_error(y_test,y_pred))\n",
        "ans"
      ],
      "execution_count": 18,
      "outputs": [
        {
          "output_type": "execute_result",
          "data": {
            "text/plain": [
              "71.2695049062257"
            ]
          },
          "metadata": {
            "tags": []
          },
          "execution_count": 18
        }
      ]
    },
    {
      "cell_type": "code",
      "metadata": {
        "colab": {
          "base_uri": "https://localhost:8080/",
          "height": 417
        },
        "id": "RTXTs_HzTVMt",
        "outputId": "63655888-c4ba-4f0c-893f-a7dece6cac2f"
      },
      "source": [
        "df2['CommodityID'] = df2['Commodity_name'].map(df.set_index('Commodity_name')['CommodityID'])\n",
        "df2"
      ],
      "execution_count": 19,
      "outputs": [
        {
          "output_type": "execute_result",
          "data": {
            "text/html": [
              "<div>\n",
              "<style scoped>\n",
              "    .dataframe tbody tr th:only-of-type {\n",
              "        vertical-align: middle;\n",
              "    }\n",
              "\n",
              "    .dataframe tbody tr th {\n",
              "        vertical-align: top;\n",
              "    }\n",
              "\n",
              "    .dataframe thead th {\n",
              "        text-align: right;\n",
              "    }\n",
              "</style>\n",
              "<table border=\"1\" class=\"dataframe\">\n",
              "  <thead>\n",
              "    <tr style=\"text-align: right;\">\n",
              "      <th></th>\n",
              "      <th>Month-year</th>\n",
              "      <th>Commodity_name</th>\n",
              "      <th>CommodityID</th>\n",
              "    </tr>\n",
              "  </thead>\n",
              "  <tbody>\n",
              "    <tr>\n",
              "      <th>0</th>\n",
              "      <td>2020-03-02</td>\n",
              "      <td>Tomato</td>\n",
              "      <td>CD18</td>\n",
              "    </tr>\n",
              "    <tr>\n",
              "      <th>1</th>\n",
              "      <td>2021-05-20</td>\n",
              "      <td>Radish</td>\n",
              "      <td>CD24</td>\n",
              "    </tr>\n",
              "    <tr>\n",
              "      <th>2</th>\n",
              "      <td>2020-10-27</td>\n",
              "      <td>Spray Chrysanthemum</td>\n",
              "      <td>CD134</td>\n",
              "    </tr>\n",
              "    <tr>\n",
              "      <th>3</th>\n",
              "      <td>2021-12-22</td>\n",
              "      <td>Brinjal</td>\n",
              "      <td>CD20</td>\n",
              "    </tr>\n",
              "    <tr>\n",
              "      <th>4</th>\n",
              "      <td>2021-10-14</td>\n",
              "      <td>Ginger</td>\n",
              "      <td>CD16</td>\n",
              "    </tr>\n",
              "    <tr>\n",
              "      <th>...</th>\n",
              "      <td>...</td>\n",
              "      <td>...</td>\n",
              "      <td>...</td>\n",
              "    </tr>\n",
              "    <tr>\n",
              "      <th>64</th>\n",
              "      <td>2021-03-22</td>\n",
              "      <td>Papaya</td>\n",
              "      <td>CD37</td>\n",
              "    </tr>\n",
              "    <tr>\n",
              "      <th>65</th>\n",
              "      <td>2020-09-06</td>\n",
              "      <td>Apple</td>\n",
              "      <td>CD33</td>\n",
              "    </tr>\n",
              "    <tr>\n",
              "      <th>66</th>\n",
              "      <td>2021-07-13</td>\n",
              "      <td>Sunflower</td>\n",
              "      <td>CD83</td>\n",
              "    </tr>\n",
              "    <tr>\n",
              "      <th>67</th>\n",
              "      <td>2021-08-01</td>\n",
              "      <td>Lily</td>\n",
              "      <td>CD123</td>\n",
              "    </tr>\n",
              "    <tr>\n",
              "      <th>68</th>\n",
              "      <td>2020-08-16</td>\n",
              "      <td>Raw cotton</td>\n",
              "      <td>CD71</td>\n",
              "    </tr>\n",
              "  </tbody>\n",
              "</table>\n",
              "<p>69 rows × 3 columns</p>\n",
              "</div>"
            ],
            "text/plain": [
              "    Month-year       Commodity_name CommodityID\n",
              "0   2020-03-02               Tomato        CD18\n",
              "1   2021-05-20               Radish        CD24\n",
              "2   2020-10-27  Spray Chrysanthemum       CD134\n",
              "3   2021-12-22              Brinjal        CD20\n",
              "4   2021-10-14               Ginger        CD16\n",
              "..         ...                  ...         ...\n",
              "64  2021-03-22               Papaya        CD37\n",
              "65  2020-09-06                Apple        CD33\n",
              "66  2021-07-13            Sunflower        CD83\n",
              "67  2021-08-01                 Lily       CD123\n",
              "68  2020-08-16           Raw cotton        CD71\n",
              "\n",
              "[69 rows x 3 columns]"
            ]
          },
          "metadata": {
            "tags": []
          },
          "execution_count": 19
        }
      ]
    },
    {
      "cell_type": "code",
      "metadata": {
        "colab": {
          "base_uri": "https://localhost:8080/",
          "height": 417
        },
        "id": "65TvAShT0OwO",
        "outputId": "7aabe694-051e-4f34-b87c-13e54acb597d"
      },
      "source": [
        "df2['ID']=ID.fit_transform(df2['CommodityID'])\n",
        "df2['Name']=Name.fit_transform(df2['Commodity_name'])\n",
        "df2['Monthyear']=Monthyear.fit_transform(df2['Month-year'])\n",
        "\n",
        "df2.drop(['Month-year','CommodityID','Commodity_name'],axis=1,inplace=True)\n",
        "df2"
      ],
      "execution_count": 21,
      "outputs": [
        {
          "output_type": "execute_result",
          "data": {
            "text/html": [
              "<div>\n",
              "<style scoped>\n",
              "    .dataframe tbody tr th:only-of-type {\n",
              "        vertical-align: middle;\n",
              "    }\n",
              "\n",
              "    .dataframe tbody tr th {\n",
              "        vertical-align: top;\n",
              "    }\n",
              "\n",
              "    .dataframe thead th {\n",
              "        text-align: right;\n",
              "    }\n",
              "</style>\n",
              "<table border=\"1\" class=\"dataframe\">\n",
              "  <thead>\n",
              "    <tr style=\"text-align: right;\">\n",
              "      <th></th>\n",
              "      <th>ID</th>\n",
              "      <th>Name</th>\n",
              "      <th>Monthyear</th>\n",
              "    </tr>\n",
              "  </thead>\n",
              "  <tbody>\n",
              "    <tr>\n",
              "      <th>0</th>\n",
              "      <td>27</td>\n",
              "      <td>67</td>\n",
              "      <td>8</td>\n",
              "    </tr>\n",
              "    <tr>\n",
              "      <th>1</th>\n",
              "      <td>31</td>\n",
              "      <td>52</td>\n",
              "      <td>39</td>\n",
              "    </tr>\n",
              "    <tr>\n",
              "      <th>2</th>\n",
              "      <td>23</td>\n",
              "      <td>62</td>\n",
              "      <td>21</td>\n",
              "    </tr>\n",
              "    <tr>\n",
              "      <th>3</th>\n",
              "      <td>29</td>\n",
              "      <td>12</td>\n",
              "      <td>67</td>\n",
              "    </tr>\n",
              "    <tr>\n",
              "      <th>4</th>\n",
              "      <td>26</td>\n",
              "      <td>25</td>\n",
              "      <td>61</td>\n",
              "    </tr>\n",
              "    <tr>\n",
              "      <th>...</th>\n",
              "      <td>...</td>\n",
              "      <td>...</td>\n",
              "      <td>...</td>\n",
              "    </tr>\n",
              "    <tr>\n",
              "      <th>64</th>\n",
              "      <td>37</td>\n",
              "      <td>45</td>\n",
              "      <td>33</td>\n",
              "    </tr>\n",
              "    <tr>\n",
              "      <th>65</th>\n",
              "      <td>35</td>\n",
              "      <td>2</td>\n",
              "      <td>17</td>\n",
              "    </tr>\n",
              "    <tr>\n",
              "      <th>66</th>\n",
              "      <td>58</td>\n",
              "      <td>63</td>\n",
              "      <td>47</td>\n",
              "    </tr>\n",
              "    <tr>\n",
              "      <th>67</th>\n",
              "      <td>19</td>\n",
              "      <td>35</td>\n",
              "      <td>53</td>\n",
              "    </tr>\n",
              "    <tr>\n",
              "      <th>68</th>\n",
              "      <td>53</td>\n",
              "      <td>53</td>\n",
              "      <td>15</td>\n",
              "    </tr>\n",
              "  </tbody>\n",
              "</table>\n",
              "<p>69 rows × 3 columns</p>\n",
              "</div>"
            ],
            "text/plain": [
              "    ID  Name  Monthyear\n",
              "0   27    67          8\n",
              "1   31    52         39\n",
              "2   23    62         21\n",
              "3   29    12         67\n",
              "4   26    25         61\n",
              "..  ..   ...        ...\n",
              "64  37    45         33\n",
              "65  35     2         17\n",
              "66  58    63         47\n",
              "67  19    35         53\n",
              "68  53    53         15\n",
              "\n",
              "[69 rows x 3 columns]"
            ]
          },
          "metadata": {
            "tags": []
          },
          "execution_count": 21
        }
      ]
    },
    {
      "cell_type": "code",
      "metadata": {
        "colab": {
          "base_uri": "https://localhost:8080/"
        },
        "id": "btUDfelNVqLw",
        "outputId": "6366f660-68c7-4cc4-da2e-3bf4c43e4515"
      },
      "source": [
        "pred=model.predict(df2)\n",
        "c = np.around(pred, decimals = 2)\n",
        "c"
      ],
      "execution_count": 22,
      "outputs": [
        {
          "output_type": "execute_result",
          "data": {
            "text/plain": [
              "array([5172.74, 5162.91, 5166.87, 5156.78, 5156.45, 5177.74, 5157.72,\n",
              "       5167.78, 5169.47, 5178.08, 5174.61, 5182.99, 5161.49, 5157.14,\n",
              "       5155.98, 5175.04, 5176.4 , 5154.93, 5149.07, 5154.68, 5166.33,\n",
              "       5180.14, 5166.98, 5170.89, 5178.55, 5182.16, 5159.54, 5174.17,\n",
              "       5174.81, 5164.1 , 5178.82, 5148.17, 5160.83, 5172.65, 5181.01,\n",
              "       5157.35, 5180.27, 5162.62, 5167.65, 5158.1 , 5146.45, 5168.68,\n",
              "       5151.53, 5181.2 , 5185.97, 5176.11, 5151.51, 5175.14, 5185.33,\n",
              "       5159.9 , 5165.18, 5176.33, 5168.45, 5163.81, 5190.35, 5154.44,\n",
              "       5185.02, 5167.51, 5185.38, 5156.46, 5163.27, 5171.66, 5188.24,\n",
              "       5183.74, 5168.24, 5181.54, 5164.99, 5156.38, 5179.03])"
            ]
          },
          "metadata": {
            "tags": []
          },
          "execution_count": 22
        }
      ]
    },
    {
      "cell_type": "code",
      "metadata": {
        "id": "8Jn8TEoTVyQE",
        "colab": {
          "base_uri": "https://localhost:8080/",
          "height": 203
        },
        "outputId": "93fcec21-6005-400c-d536-e841aec1e85f"
      },
      "source": [
        "DF=pd.DataFrame(Data2)\n",
        "DF.head()"
      ],
      "execution_count": 25,
      "outputs": [
        {
          "output_type": "execute_result",
          "data": {
            "text/html": [
              "<div>\n",
              "<style scoped>\n",
              "    .dataframe tbody tr th:only-of-type {\n",
              "        vertical-align: middle;\n",
              "    }\n",
              "\n",
              "    .dataframe tbody tr th {\n",
              "        vertical-align: top;\n",
              "    }\n",
              "\n",
              "    .dataframe thead th {\n",
              "        text-align: right;\n",
              "    }\n",
              "</style>\n",
              "<table border=\"1\" class=\"dataframe\">\n",
              "  <thead>\n",
              "    <tr style=\"text-align: right;\">\n",
              "      <th></th>\n",
              "      <th>Month-year</th>\n",
              "      <th>Commodity_name</th>\n",
              "      <th>CommodityID</th>\n",
              "    </tr>\n",
              "  </thead>\n",
              "  <tbody>\n",
              "    <tr>\n",
              "      <th>0</th>\n",
              "      <td>2020-03-02</td>\n",
              "      <td>Tomato</td>\n",
              "      <td>CD18</td>\n",
              "    </tr>\n",
              "    <tr>\n",
              "      <th>1</th>\n",
              "      <td>2021-05-20</td>\n",
              "      <td>Radish</td>\n",
              "      <td>CD24</td>\n",
              "    </tr>\n",
              "    <tr>\n",
              "      <th>2</th>\n",
              "      <td>2020-10-27</td>\n",
              "      <td>Spray Chrysanthemum</td>\n",
              "      <td>CD134</td>\n",
              "    </tr>\n",
              "    <tr>\n",
              "      <th>3</th>\n",
              "      <td>2021-12-22</td>\n",
              "      <td>Brinjal</td>\n",
              "      <td>CD20</td>\n",
              "    </tr>\n",
              "    <tr>\n",
              "      <th>4</th>\n",
              "      <td>2021-10-14</td>\n",
              "      <td>Ginger</td>\n",
              "      <td>CD16</td>\n",
              "    </tr>\n",
              "  </tbody>\n",
              "</table>\n",
              "</div>"
            ],
            "text/plain": [
              "   Month-year       Commodity_name CommodityID\n",
              "0  2020-03-02               Tomato        CD18\n",
              "1  2021-05-20               Radish        CD24\n",
              "2  2020-10-27  Spray Chrysanthemum       CD134\n",
              "3  2021-12-22              Brinjal        CD20\n",
              "4  2021-10-14               Ginger        CD16"
            ]
          },
          "metadata": {
            "tags": []
          },
          "execution_count": 25
        }
      ]
    },
    {
      "cell_type": "code",
      "metadata": {
        "colab": {
          "base_uri": "https://localhost:8080/",
          "height": 417
        },
        "id": "93ZPQEb62F03",
        "outputId": "a3ea673e-4da6-4498-987d-221013f46110"
      },
      "source": [
        "DF['MSP(Predicted)']=c\n",
        "DF"
      ],
      "execution_count": 26,
      "outputs": [
        {
          "output_type": "execute_result",
          "data": {
            "text/html": [
              "<div>\n",
              "<style scoped>\n",
              "    .dataframe tbody tr th:only-of-type {\n",
              "        vertical-align: middle;\n",
              "    }\n",
              "\n",
              "    .dataframe tbody tr th {\n",
              "        vertical-align: top;\n",
              "    }\n",
              "\n",
              "    .dataframe thead th {\n",
              "        text-align: right;\n",
              "    }\n",
              "</style>\n",
              "<table border=\"1\" class=\"dataframe\">\n",
              "  <thead>\n",
              "    <tr style=\"text-align: right;\">\n",
              "      <th></th>\n",
              "      <th>Month-year</th>\n",
              "      <th>Commodity_name</th>\n",
              "      <th>CommodityID</th>\n",
              "      <th>MSP(Predicted)</th>\n",
              "    </tr>\n",
              "  </thead>\n",
              "  <tbody>\n",
              "    <tr>\n",
              "      <th>0</th>\n",
              "      <td>2020-03-02</td>\n",
              "      <td>Tomato</td>\n",
              "      <td>CD18</td>\n",
              "      <td>5172.74</td>\n",
              "    </tr>\n",
              "    <tr>\n",
              "      <th>1</th>\n",
              "      <td>2021-05-20</td>\n",
              "      <td>Radish</td>\n",
              "      <td>CD24</td>\n",
              "      <td>5162.91</td>\n",
              "    </tr>\n",
              "    <tr>\n",
              "      <th>2</th>\n",
              "      <td>2020-10-27</td>\n",
              "      <td>Spray Chrysanthemum</td>\n",
              "      <td>CD134</td>\n",
              "      <td>5166.87</td>\n",
              "    </tr>\n",
              "    <tr>\n",
              "      <th>3</th>\n",
              "      <td>2021-12-22</td>\n",
              "      <td>Brinjal</td>\n",
              "      <td>CD20</td>\n",
              "      <td>5156.78</td>\n",
              "    </tr>\n",
              "    <tr>\n",
              "      <th>4</th>\n",
              "      <td>2021-10-14</td>\n",
              "      <td>Ginger</td>\n",
              "      <td>CD16</td>\n",
              "      <td>5156.45</td>\n",
              "    </tr>\n",
              "    <tr>\n",
              "      <th>...</th>\n",
              "      <td>...</td>\n",
              "      <td>...</td>\n",
              "      <td>...</td>\n",
              "      <td>...</td>\n",
              "    </tr>\n",
              "    <tr>\n",
              "      <th>64</th>\n",
              "      <td>2021-03-22</td>\n",
              "      <td>Papaya</td>\n",
              "      <td>CD37</td>\n",
              "      <td>5168.24</td>\n",
              "    </tr>\n",
              "    <tr>\n",
              "      <th>65</th>\n",
              "      <td>2020-09-06</td>\n",
              "      <td>Apple</td>\n",
              "      <td>CD33</td>\n",
              "      <td>5181.54</td>\n",
              "    </tr>\n",
              "    <tr>\n",
              "      <th>66</th>\n",
              "      <td>2021-07-13</td>\n",
              "      <td>Sunflower</td>\n",
              "      <td>CD83</td>\n",
              "      <td>5164.99</td>\n",
              "    </tr>\n",
              "    <tr>\n",
              "      <th>67</th>\n",
              "      <td>2021-08-01</td>\n",
              "      <td>Lily</td>\n",
              "      <td>CD123</td>\n",
              "      <td>5156.38</td>\n",
              "    </tr>\n",
              "    <tr>\n",
              "      <th>68</th>\n",
              "      <td>2020-08-16</td>\n",
              "      <td>Raw cotton</td>\n",
              "      <td>CD71</td>\n",
              "      <td>5179.03</td>\n",
              "    </tr>\n",
              "  </tbody>\n",
              "</table>\n",
              "<p>69 rows × 4 columns</p>\n",
              "</div>"
            ],
            "text/plain": [
              "    Month-year       Commodity_name CommodityID  MSP(Predicted)\n",
              "0   2020-03-02               Tomato        CD18         5172.74\n",
              "1   2021-05-20               Radish        CD24         5162.91\n",
              "2   2020-10-27  Spray Chrysanthemum       CD134         5166.87\n",
              "3   2021-12-22              Brinjal        CD20         5156.78\n",
              "4   2021-10-14               Ginger        CD16         5156.45\n",
              "..         ...                  ...         ...             ...\n",
              "64  2021-03-22               Papaya        CD37         5168.24\n",
              "65  2020-09-06                Apple        CD33         5181.54\n",
              "66  2021-07-13            Sunflower        CD83         5164.99\n",
              "67  2021-08-01                 Lily       CD123         5156.38\n",
              "68  2020-08-16           Raw cotton        CD71         5179.03\n",
              "\n",
              "[69 rows x 4 columns]"
            ]
          },
          "metadata": {
            "tags": []
          },
          "execution_count": 26
        }
      ]
    },
    {
      "cell_type": "code",
      "metadata": {
        "id": "MzGJKIqV2l1D"
      },
      "source": [
        ""
      ],
      "execution_count": null,
      "outputs": []
    }
  ]
}