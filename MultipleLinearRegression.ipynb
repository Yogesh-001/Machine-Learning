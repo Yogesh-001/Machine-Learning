{
  "nbformat": 4,
  "nbformat_minor": 0,
  "metadata": {
    "colab": {
      "name": "MultipleLinearRegression.ipynb",
      "provenance": []
    },
    "kernelspec": {
      "name": "python3",
      "display_name": "Python 3"
    },
    "language_info": {
      "name": "python"
    }
  },
  "cells": [
    {
      "cell_type": "code",
      "metadata": {
        "id": "tNDktITts-3y"
      },
      "source": [
        "import pandas as pd\n",
        "import numpy as np"
      ],
      "execution_count": 29,
      "outputs": []
    },
    {
      "cell_type": "code",
      "metadata": {
        "colab": {
          "base_uri": "https://localhost:8080/",
          "height": 203
        },
        "id": "2KLi76a5tCWl",
        "outputId": "3c4e5b57-883b-460a-8f82-46c3dc97874a"
      },
      "source": [
        "data=pd.read_csv('MLR.csv')\n",
        "data.head()"
      ],
      "execution_count": 30,
      "outputs": [
        {
          "output_type": "execute_result",
          "data": {
            "text/html": [
              "<div>\n",
              "<style scoped>\n",
              "    .dataframe tbody tr th:only-of-type {\n",
              "        vertical-align: middle;\n",
              "    }\n",
              "\n",
              "    .dataframe tbody tr th {\n",
              "        vertical-align: top;\n",
              "    }\n",
              "\n",
              "    .dataframe thead th {\n",
              "        text-align: right;\n",
              "    }\n",
              "</style>\n",
              "<table border=\"1\" class=\"dataframe\">\n",
              "  <thead>\n",
              "    <tr style=\"text-align: right;\">\n",
              "      <th></th>\n",
              "      <th>Age</th>\n",
              "      <th>Salary</th>\n",
              "      <th>Hours per day</th>\n",
              "      <th>Field of Work</th>\n",
              "      <th>Experience(in yrs)</th>\n",
              "    </tr>\n",
              "  </thead>\n",
              "  <tbody>\n",
              "    <tr>\n",
              "      <th>0</th>\n",
              "      <td>28</td>\n",
              "      <td>75000</td>\n",
              "      <td>7</td>\n",
              "      <td>Software</td>\n",
              "      <td>5.0</td>\n",
              "    </tr>\n",
              "    <tr>\n",
              "      <th>1</th>\n",
              "      <td>22</td>\n",
              "      <td>50000</td>\n",
              "      <td>6</td>\n",
              "      <td>Software</td>\n",
              "      <td>3.0</td>\n",
              "    </tr>\n",
              "    <tr>\n",
              "      <th>2</th>\n",
              "      <td>25</td>\n",
              "      <td>45000</td>\n",
              "      <td>6</td>\n",
              "      <td>Software</td>\n",
              "      <td>2.5</td>\n",
              "    </tr>\n",
              "    <tr>\n",
              "      <th>3</th>\n",
              "      <td>28</td>\n",
              "      <td>60000</td>\n",
              "      <td>9</td>\n",
              "      <td>Hardware</td>\n",
              "      <td>4.5</td>\n",
              "    </tr>\n",
              "    <tr>\n",
              "      <th>4</th>\n",
              "      <td>18</td>\n",
              "      <td>20000</td>\n",
              "      <td>3</td>\n",
              "      <td>Software</td>\n",
              "      <td>0.5</td>\n",
              "    </tr>\n",
              "  </tbody>\n",
              "</table>\n",
              "</div>"
            ],
            "text/plain": [
              "   Age  Salary  Hours per day Field of Work  Experience(in yrs)\n",
              "0   28   75000              7      Software                 5.0\n",
              "1   22   50000              6      Software                 3.0\n",
              "2   25   45000              6      Software                 2.5\n",
              "3   28   60000              9      Hardware                 4.5\n",
              "4   18   20000              3      Software                 0.5"
            ]
          },
          "metadata": {
            "tags": []
          },
          "execution_count": 30
        }
      ]
    },
    {
      "cell_type": "code",
      "metadata": {
        "colab": {
          "base_uri": "https://localhost:8080/",
          "height": 203
        },
        "id": "BJD1kdOetYXQ",
        "outputId": "ad9fb164-b80d-464d-9927-4ea7ec05fc47"
      },
      "source": [
        "df=pd.DataFrame(data)\n",
        "df.head()"
      ],
      "execution_count": 31,
      "outputs": [
        {
          "output_type": "execute_result",
          "data": {
            "text/html": [
              "<div>\n",
              "<style scoped>\n",
              "    .dataframe tbody tr th:only-of-type {\n",
              "        vertical-align: middle;\n",
              "    }\n",
              "\n",
              "    .dataframe tbody tr th {\n",
              "        vertical-align: top;\n",
              "    }\n",
              "\n",
              "    .dataframe thead th {\n",
              "        text-align: right;\n",
              "    }\n",
              "</style>\n",
              "<table border=\"1\" class=\"dataframe\">\n",
              "  <thead>\n",
              "    <tr style=\"text-align: right;\">\n",
              "      <th></th>\n",
              "      <th>Age</th>\n",
              "      <th>Salary</th>\n",
              "      <th>Hours per day</th>\n",
              "      <th>Field of Work</th>\n",
              "      <th>Experience(in yrs)</th>\n",
              "    </tr>\n",
              "  </thead>\n",
              "  <tbody>\n",
              "    <tr>\n",
              "      <th>0</th>\n",
              "      <td>28</td>\n",
              "      <td>75000</td>\n",
              "      <td>7</td>\n",
              "      <td>Software</td>\n",
              "      <td>5.0</td>\n",
              "    </tr>\n",
              "    <tr>\n",
              "      <th>1</th>\n",
              "      <td>22</td>\n",
              "      <td>50000</td>\n",
              "      <td>6</td>\n",
              "      <td>Software</td>\n",
              "      <td>3.0</td>\n",
              "    </tr>\n",
              "    <tr>\n",
              "      <th>2</th>\n",
              "      <td>25</td>\n",
              "      <td>45000</td>\n",
              "      <td>6</td>\n",
              "      <td>Software</td>\n",
              "      <td>2.5</td>\n",
              "    </tr>\n",
              "    <tr>\n",
              "      <th>3</th>\n",
              "      <td>28</td>\n",
              "      <td>60000</td>\n",
              "      <td>9</td>\n",
              "      <td>Hardware</td>\n",
              "      <td>4.5</td>\n",
              "    </tr>\n",
              "    <tr>\n",
              "      <th>4</th>\n",
              "      <td>18</td>\n",
              "      <td>20000</td>\n",
              "      <td>3</td>\n",
              "      <td>Software</td>\n",
              "      <td>0.5</td>\n",
              "    </tr>\n",
              "  </tbody>\n",
              "</table>\n",
              "</div>"
            ],
            "text/plain": [
              "   Age  Salary  Hours per day Field of Work  Experience(in yrs)\n",
              "0   28   75000              7      Software                 5.0\n",
              "1   22   50000              6      Software                 3.0\n",
              "2   25   45000              6      Software                 2.5\n",
              "3   28   60000              9      Hardware                 4.5\n",
              "4   18   20000              3      Software                 0.5"
            ]
          },
          "metadata": {
            "tags": []
          },
          "execution_count": 31
        }
      ]
    },
    {
      "cell_type": "code",
      "metadata": {
        "id": "3GoKRhYwuMc6"
      },
      "source": [
        "from sklearn.preprocessing import LabelEncoder\n",
        "Fow=LabelEncoder()\n",
        "df['Fow']=Fow.fit_transform(df['Field of Work'])"
      ],
      "execution_count": 32,
      "outputs": []
    },
    {
      "cell_type": "code",
      "metadata": {
        "id": "oOMw4yI_ussn"
      },
      "source": [
        "df.drop(['Field of Work'],axis=1,inplace=True)"
      ],
      "execution_count": 33,
      "outputs": []
    },
    {
      "cell_type": "code",
      "metadata": {
        "colab": {
          "base_uri": "https://localhost:8080/",
          "height": 203
        },
        "id": "HoGZwbehu2g9",
        "outputId": "db65666f-a6b8-482d-bb95-2869febbbf7c"
      },
      "source": [
        "df.head()"
      ],
      "execution_count": 34,
      "outputs": [
        {
          "output_type": "execute_result",
          "data": {
            "text/html": [
              "<div>\n",
              "<style scoped>\n",
              "    .dataframe tbody tr th:only-of-type {\n",
              "        vertical-align: middle;\n",
              "    }\n",
              "\n",
              "    .dataframe tbody tr th {\n",
              "        vertical-align: top;\n",
              "    }\n",
              "\n",
              "    .dataframe thead th {\n",
              "        text-align: right;\n",
              "    }\n",
              "</style>\n",
              "<table border=\"1\" class=\"dataframe\">\n",
              "  <thead>\n",
              "    <tr style=\"text-align: right;\">\n",
              "      <th></th>\n",
              "      <th>Age</th>\n",
              "      <th>Salary</th>\n",
              "      <th>Hours per day</th>\n",
              "      <th>Experience(in yrs)</th>\n",
              "      <th>Fow</th>\n",
              "    </tr>\n",
              "  </thead>\n",
              "  <tbody>\n",
              "    <tr>\n",
              "      <th>0</th>\n",
              "      <td>28</td>\n",
              "      <td>75000</td>\n",
              "      <td>7</td>\n",
              "      <td>5.0</td>\n",
              "      <td>1</td>\n",
              "    </tr>\n",
              "    <tr>\n",
              "      <th>1</th>\n",
              "      <td>22</td>\n",
              "      <td>50000</td>\n",
              "      <td>6</td>\n",
              "      <td>3.0</td>\n",
              "      <td>1</td>\n",
              "    </tr>\n",
              "    <tr>\n",
              "      <th>2</th>\n",
              "      <td>25</td>\n",
              "      <td>45000</td>\n",
              "      <td>6</td>\n",
              "      <td>2.5</td>\n",
              "      <td>1</td>\n",
              "    </tr>\n",
              "    <tr>\n",
              "      <th>3</th>\n",
              "      <td>28</td>\n",
              "      <td>60000</td>\n",
              "      <td>9</td>\n",
              "      <td>4.5</td>\n",
              "      <td>0</td>\n",
              "    </tr>\n",
              "    <tr>\n",
              "      <th>4</th>\n",
              "      <td>18</td>\n",
              "      <td>20000</td>\n",
              "      <td>3</td>\n",
              "      <td>0.5</td>\n",
              "      <td>1</td>\n",
              "    </tr>\n",
              "  </tbody>\n",
              "</table>\n",
              "</div>"
            ],
            "text/plain": [
              "   Age  Salary  Hours per day  Experience(in yrs)  Fow\n",
              "0   28   75000              7                 5.0    1\n",
              "1   22   50000              6                 3.0    1\n",
              "2   25   45000              6                 2.5    1\n",
              "3   28   60000              9                 4.5    0\n",
              "4   18   20000              3                 0.5    1"
            ]
          },
          "metadata": {
            "tags": []
          },
          "execution_count": 34
        }
      ]
    },
    {
      "cell_type": "code",
      "metadata": {
        "colab": {
          "base_uri": "https://localhost:8080/"
        },
        "id": "TfHmEtHdu_V1",
        "outputId": "d5d29a5e-cd38-424c-ca91-4c5b924d79e4"
      },
      "source": [
        "X=df.drop(['Experience(in yrs)'],axis=1)\n",
        "Y=df['Experience(in yrs)']\n",
        "print(X,Y)"
      ],
      "execution_count": 62,
      "outputs": [
        {
          "output_type": "stream",
          "text": [
            "    Age  Salary  Hours per day  Fow\n",
            "0    28   75000              7    1\n",
            "1    22   50000              6    1\n",
            "2    25   45000              6    1\n",
            "3    28   60000              9    0\n",
            "4    18   20000              3    1\n",
            "5    24   55000              5    1\n",
            "6    26   45000              7    0\n",
            "7    28   90000             12    0\n",
            "8    35   90000              6    1\n",
            "9    19   20000              4    1\n",
            "10   32   75000              7    1\n",
            "11   33   75000              9    0\n",
            "12   27   60000              6    1\n",
            "13   36   90000              8    1 0     5.0\n",
            "1     3.0\n",
            "2     2.5\n",
            "3     4.5\n",
            "4     0.5\n",
            "5     3.0\n",
            "6     3.0\n",
            "7     6.0\n",
            "8     7.0\n",
            "9     1.0\n",
            "10    5.0\n",
            "11    4.0\n",
            "12    4.0\n",
            "13    7.0\n",
            "Name: Experience(in yrs), dtype: float64\n"
          ],
          "name": "stdout"
        }
      ]
    },
    {
      "cell_type": "code",
      "metadata": {
        "id": "ChovvxvwvflE"
      },
      "source": [
        "from sklearn.model_selection import train_test_split  \n",
        "x_train, x_test, y_train, y_test= train_test_split(X, Y, test_size= 0.2, random_state=0) "
      ],
      "execution_count": 63,
      "outputs": []
    },
    {
      "cell_type": "code",
      "metadata": {
        "colab": {
          "base_uri": "https://localhost:8080/"
        },
        "id": "HNrrqebVvy1S",
        "outputId": "7688de0d-47eb-4757-defd-e51fb8be3de0"
      },
      "source": [
        "from sklearn.linear_model import LinearRegression\n",
        "model=LinearRegression()\n",
        "model.fit(x_train,y_train)"
      ],
      "execution_count": 64,
      "outputs": [
        {
          "output_type": "execute_result",
          "data": {
            "text/plain": [
              "LinearRegression(copy_X=True, fit_intercept=True, n_jobs=None, normalize=False)"
            ]
          },
          "metadata": {
            "tags": []
          },
          "execution_count": 64
        }
      ]
    },
    {
      "cell_type": "code",
      "metadata": {
        "colab": {
          "base_uri": "https://localhost:8080/"
        },
        "id": "WLjD0_sVv9Kc",
        "outputId": "7462cbfe-76ce-4d7a-80f7-5e7b266f2c2e"
      },
      "source": [
        "y_pred=model.predict(x_test)\n",
        "y_pred"
      ],
      "execution_count": 65,
      "outputs": [
        {
          "output_type": "execute_result",
          "data": {
            "text/plain": [
              "array([5.62439969, 2.11562436, 0.32984461])"
            ]
          },
          "metadata": {
            "tags": []
          },
          "execution_count": 65
        }
      ]
    },
    {
      "cell_type": "code",
      "metadata": {
        "colab": {
          "base_uri": "https://localhost:8080/"
        },
        "id": "1pDompE0wES0",
        "outputId": "9ef44490-3b43-4443-97d3-4e4696703d50"
      },
      "source": [
        "print(model.score(x_train,y_train))"
      ],
      "execution_count": 66,
      "outputs": [
        {
          "output_type": "stream",
          "text": [
            "0.9368230645353607\n"
          ],
          "name": "stdout"
        }
      ]
    },
    {
      "cell_type": "code",
      "metadata": {
        "colab": {
          "base_uri": "https://localhost:8080/"
        },
        "id": "qsLTLjatwrAk",
        "outputId": "1026dfef-65da-4c8e-dfea-918a42ab9368"
      },
      "source": [
        "from sklearn.metrics import mean_squared_error\n",
        "mean_squared_error(y_test, y_pred)**0.5"
      ],
      "execution_count": 67,
      "outputs": [
        {
          "output_type": "execute_result",
          "data": {
            "text/plain": [
              "0.94927153588564"
            ]
          },
          "metadata": {
            "tags": []
          },
          "execution_count": 67
        }
      ]
    },
    {
      "cell_type": "code",
      "metadata": {
        "colab": {
          "base_uri": "https://localhost:8080/"
        },
        "id": "9UM9mvwu6CFe",
        "outputId": "43b01ba3-40a9-4882-fef3-586dc0eb68a4"
      },
      "source": [
        "model.predict([[22,50000,7,1]])"
      ],
      "execution_count": 72,
      "outputs": [
        {
          "output_type": "execute_result",
          "data": {
            "text/plain": [
              "array([3.48794855])"
            ]
          },
          "metadata": {
            "tags": []
          },
          "execution_count": 72
        }
      ]
    },
    {
      "cell_type": "code",
      "metadata": {
        "id": "K73EJ3IR6ghe"
      },
      "source": [
        ""
      ],
      "execution_count": null,
      "outputs": []
    }
  ]
}