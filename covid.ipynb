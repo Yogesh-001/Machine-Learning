{
  "nbformat": 4,
  "nbformat_minor": 0,
  "metadata": {
    "colab": {
      "name": "covid.ipynb",
      "provenance": []
    },
    "kernelspec": {
      "name": "python3",
      "display_name": "Python 3"
    },
    "language_info": {
      "name": "python"
    }
  },
  "cells": [
    {
      "cell_type": "code",
      "metadata": {
        "id": "OE3BaIVpEV3q"
      },
      "source": [
        "import pandas as pd\n",
        "import numpy as np\n",
        "from sklearn.linear_model import LogisticRegression\n",
        "from sklearn.model_selection import train_test_split\n",
        "from sklearn.metrics import classification_report, confusion_matrix,accuracy_score,precision_score,recall_score"
      ],
      "execution_count": 31,
      "outputs": []
    },
    {
      "cell_type": "code",
      "metadata": {
        "colab": {
          "base_uri": "https://localhost:8080/",
          "height": 225
        },
        "id": "O59mNWOcEXcj",
        "outputId": "c3329e0d-351e-4974-f155-8faf4b890d94"
      },
      "source": [
        "Data=pd.read_csv('covid.csv')\n",
        "Data.head(6)"
      ],
      "execution_count": 32,
      "outputs": [
        {
          "output_type": "execute_result",
          "data": {
            "text/html": [
              "<div>\n",
              "<style scoped>\n",
              "    .dataframe tbody tr th:only-of-type {\n",
              "        vertical-align: middle;\n",
              "    }\n",
              "\n",
              "    .dataframe tbody tr th {\n",
              "        vertical-align: top;\n",
              "    }\n",
              "\n",
              "    .dataframe thead th {\n",
              "        text-align: right;\n",
              "    }\n",
              "</style>\n",
              "<table border=\"1\" class=\"dataframe\">\n",
              "  <thead>\n",
              "    <tr style=\"text-align: right;\">\n",
              "      <th></th>\n",
              "      <th>s.no</th>\n",
              "      <th>AGE</th>\n",
              "      <th>TEMPERATURE</th>\n",
              "      <th>BP</th>\n",
              "      <th>OXYGEN</th>\n",
              "      <th>COVID</th>\n",
              "    </tr>\n",
              "  </thead>\n",
              "  <tbody>\n",
              "    <tr>\n",
              "      <th>0</th>\n",
              "      <td>0</td>\n",
              "      <td>58</td>\n",
              "      <td>103</td>\n",
              "      <td>170</td>\n",
              "      <td>80</td>\n",
              "      <td>1</td>\n",
              "    </tr>\n",
              "    <tr>\n",
              "      <th>1</th>\n",
              "      <td>1</td>\n",
              "      <td>25</td>\n",
              "      <td>100</td>\n",
              "      <td>165</td>\n",
              "      <td>90</td>\n",
              "      <td>1</td>\n",
              "    </tr>\n",
              "    <tr>\n",
              "      <th>2</th>\n",
              "      <td>2</td>\n",
              "      <td>18</td>\n",
              "      <td>98</td>\n",
              "      <td>120</td>\n",
              "      <td>94</td>\n",
              "      <td>0</td>\n",
              "    </tr>\n",
              "    <tr>\n",
              "      <th>3</th>\n",
              "      <td>3</td>\n",
              "      <td>61</td>\n",
              "      <td>102</td>\n",
              "      <td>180</td>\n",
              "      <td>91</td>\n",
              "      <td>1</td>\n",
              "    </tr>\n",
              "    <tr>\n",
              "      <th>4</th>\n",
              "      <td>4</td>\n",
              "      <td>21</td>\n",
              "      <td>99</td>\n",
              "      <td>140</td>\n",
              "      <td>95</td>\n",
              "      <td>0</td>\n",
              "    </tr>\n",
              "    <tr>\n",
              "      <th>5</th>\n",
              "      <td>5</td>\n",
              "      <td>19</td>\n",
              "      <td>93</td>\n",
              "      <td>135</td>\n",
              "      <td>96</td>\n",
              "      <td>0</td>\n",
              "    </tr>\n",
              "  </tbody>\n",
              "</table>\n",
              "</div>"
            ],
            "text/plain": [
              "   s.no  AGE  TEMPERATURE   BP  OXYGEN  COVID\n",
              "0     0   58          103  170      80      1\n",
              "1     1   25          100  165      90      1\n",
              "2     2   18           98  120      94      0\n",
              "3     3   61          102  180      91      1\n",
              "4     4   21           99  140      95      0\n",
              "5     5   19           93  135      96      0"
            ]
          },
          "metadata": {
            "tags": []
          },
          "execution_count": 32
        }
      ]
    },
    {
      "cell_type": "code",
      "metadata": {
        "id": "8p0NaoBbEZ9A"
      },
      "source": [
        "x=Data.iloc[:,0:5]\n",
        "y=Data.iloc[:,5]\n",
        "X_train,X_test,y_train,y_test=train_test_split(x,y,test_size=0.20,random_state=0)"
      ],
      "execution_count": 33,
      "outputs": []
    },
    {
      "cell_type": "code",
      "metadata": {
        "id": "ktNfU8CBEtMc"
      },
      "source": [
        "model=LogisticRegression()\n",
        "model.fit(X_train,y_train)\n",
        "y_pred=model.predict(X_test)\n",
        "y_pred_prob = model.predict_proba(x)"
      ],
      "execution_count": 34,
      "outputs": []
    },
    {
      "cell_type": "code",
      "metadata": {
        "colab": {
          "base_uri": "https://localhost:8080/"
        },
        "id": "8g-pzVvtH0ob",
        "outputId": "3e195727-f7cc-4070-f895-019d133e2563"
      },
      "source": [
        "cnf_matrix =confusion_matrix(y_test, y_pred)\n",
        "cnf_matrix\n",
        "\n",
        "print(classification_report(y, model.predict(x)))\n"
      ],
      "execution_count": 35,
      "outputs": [
        {
          "output_type": "stream",
          "text": [
            "              precision    recall  f1-score   support\n",
            "\n",
            "           0       1.00      1.00      1.00         5\n",
            "           1       1.00      1.00      1.00         5\n",
            "\n",
            "    accuracy                           1.00        10\n",
            "   macro avg       1.00      1.00      1.00        10\n",
            "weighted avg       1.00      1.00      1.00        10\n",
            "\n"
          ],
          "name": "stdout"
        }
      ]
    },
    {
      "cell_type": "code",
      "metadata": {
        "colab": {
          "base_uri": "https://localhost:8080/"
        },
        "id": "EgR7qAfVH3ui",
        "outputId": "31676f2d-d7bb-4447-83e7-7755fc8149ef"
      },
      "source": [
        "\n",
        "accuracy = accuracy_score(y_test, y_pred)\n",
        "accuracy_percentage = 100 * accuracy\n",
        "accuracy_percentage\n",
        "\n",
        "print(\"Precision:\",precision_score(y_test, y_pred))\n",
        "\n",
        "print(\"Recall:\",recall_score(y_test, y_pred))"
      ],
      "execution_count": 36,
      "outputs": [
        {
          "output_type": "stream",
          "text": [
            "Precision: 1.0\n",
            "Recall: 1.0\n"
          ],
          "name": "stdout"
        }
      ]
    },
    {
      "cell_type": "code",
      "metadata": {
        "id": "nErWCqQ9H-sC"
      },
      "source": [
        ""
      ],
      "execution_count": null,
      "outputs": []
    }
  ]
}