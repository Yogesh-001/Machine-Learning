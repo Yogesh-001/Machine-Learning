{
 "cells": [
  {
   "cell_type": "code",
   "execution_count": 1,
   "id": "b7ab1ba1",
   "metadata": {},
   "outputs": [],
   "source": [
    "import pandas as pd\n",
    "import numpy as np"
   ]
  },
  {
   "cell_type": "code",
   "execution_count": 2,
   "id": "9105d991",
   "metadata": {},
   "outputs": [],
   "source": [
    "data=pd.read_excel('Data_Train.xlsx')\n",
    "data1=pd.read_excel('Data_Test.xlsx')"
   ]
  },
  {
   "cell_type": "code",
   "execution_count": 3,
   "id": "03e630fc",
   "metadata": {},
   "outputs": [
    {
     "data": {
      "text/html": [
       "<div>\n",
       "<style scoped>\n",
       "    .dataframe tbody tr th:only-of-type {\n",
       "        vertical-align: middle;\n",
       "    }\n",
       "\n",
       "    .dataframe tbody tr th {\n",
       "        vertical-align: top;\n",
       "    }\n",
       "\n",
       "    .dataframe thead th {\n",
       "        text-align: right;\n",
       "    }\n",
       "</style>\n",
       "<table border=\"1\" class=\"dataframe\">\n",
       "  <thead>\n",
       "    <tr style=\"text-align: right;\">\n",
       "      <th></th>\n",
       "      <th>STORY</th>\n",
       "      <th>SECTION</th>\n",
       "    </tr>\n",
       "  </thead>\n",
       "  <tbody>\n",
       "    <tr>\n",
       "      <th>0</th>\n",
       "      <td>But the most painful was the huge reversal in ...</td>\n",
       "      <td>3.0</td>\n",
       "    </tr>\n",
       "    <tr>\n",
       "      <th>1</th>\n",
       "      <td>How formidable is the opposition alliance amon...</td>\n",
       "      <td>0.0</td>\n",
       "    </tr>\n",
       "    <tr>\n",
       "      <th>2</th>\n",
       "      <td>Most Asian currencies were trading lower today...</td>\n",
       "      <td>3.0</td>\n",
       "    </tr>\n",
       "    <tr>\n",
       "      <th>3</th>\n",
       "      <td>If you want to answer any question, click on ‘...</td>\n",
       "      <td>1.0</td>\n",
       "    </tr>\n",
       "    <tr>\n",
       "      <th>4</th>\n",
       "      <td>In global markets, gold prices edged up today ...</td>\n",
       "      <td>3.0</td>\n",
       "    </tr>\n",
       "  </tbody>\n",
       "</table>\n",
       "</div>"
      ],
      "text/plain": [
       "                                               STORY  SECTION\n",
       "0  But the most painful was the huge reversal in ...      3.0\n",
       "1  How formidable is the opposition alliance amon...      0.0\n",
       "2  Most Asian currencies were trading lower today...      3.0\n",
       "3  If you want to answer any question, click on ‘...      1.0\n",
       "4  In global markets, gold prices edged up today ...      3.0"
      ]
     },
     "execution_count": 3,
     "metadata": {},
     "output_type": "execute_result"
    }
   ],
   "source": [
    "df=pd.DataFrame(data)\n",
    "df.head()"
   ]
  },
  {
   "cell_type": "code",
   "execution_count": 4,
   "id": "4ab4b5fb",
   "metadata": {},
   "outputs": [
    {
     "data": {
      "text/html": [
       "<div>\n",
       "<style scoped>\n",
       "    .dataframe tbody tr th:only-of-type {\n",
       "        vertical-align: middle;\n",
       "    }\n",
       "\n",
       "    .dataframe tbody tr th {\n",
       "        vertical-align: top;\n",
       "    }\n",
       "\n",
       "    .dataframe thead th {\n",
       "        text-align: right;\n",
       "    }\n",
       "</style>\n",
       "<table border=\"1\" class=\"dataframe\">\n",
       "  <thead>\n",
       "    <tr style=\"text-align: right;\">\n",
       "      <th></th>\n",
       "      <th>STORY</th>\n",
       "    </tr>\n",
       "  </thead>\n",
       "  <tbody>\n",
       "    <tr>\n",
       "      <th>0</th>\n",
       "      <td>2019 will see gadgets like gaming smartphones ...</td>\n",
       "    </tr>\n",
       "    <tr>\n",
       "      <th>1</th>\n",
       "      <td>It has also unleashed a wave of changes in the...</td>\n",
       "    </tr>\n",
       "    <tr>\n",
       "      <th>2</th>\n",
       "      <td>It can be confusing to pick the right smartpho...</td>\n",
       "    </tr>\n",
       "    <tr>\n",
       "      <th>3</th>\n",
       "      <td>The mobile application is integrated with a da...</td>\n",
       "    </tr>\n",
       "    <tr>\n",
       "      <th>4</th>\n",
       "      <td>We have rounded up some of the gadgets that sh...</td>\n",
       "    </tr>\n",
       "  </tbody>\n",
       "</table>\n",
       "</div>"
      ],
      "text/plain": [
       "                                               STORY\n",
       "0  2019 will see gadgets like gaming smartphones ...\n",
       "1  It has also unleashed a wave of changes in the...\n",
       "2  It can be confusing to pick the right smartpho...\n",
       "3  The mobile application is integrated with a da...\n",
       "4  We have rounded up some of the gadgets that sh..."
      ]
     },
     "execution_count": 4,
     "metadata": {},
     "output_type": "execute_result"
    }
   ],
   "source": [
    "df1=pd.DataFrame(data1)\n",
    "df1.head()"
   ]
  },
  {
   "cell_type": "code",
   "execution_count": 8,
   "id": "108aa8d4",
   "metadata": {},
   "outputs": [],
   "source": [
    "from sklearn.feature_extraction.text import CountVectorizer\n",
    "cv=CountVectorizer()"
   ]
  },
  {
   "cell_type": "code",
   "execution_count": 9,
   "id": "ec12b50a",
   "metadata": {},
   "outputs": [],
   "source": [
    "X=cv.fit_transform(df['STORY'])\n",
    "Y=df['SECTION']"
   ]
  },
  {
   "cell_type": "code",
   "execution_count": 10,
   "id": "48b9a66e",
   "metadata": {},
   "outputs": [
    {
     "name": "stdout",
     "output_type": "stream",
     "text": [
      "  (0, 5561)\t2\n",
      "  (0, 29476)\t7\n",
      "  (0, 19457)\t1\n",
      "  (0, 21335)\t1\n",
      "  (0, 31913)\t1\n",
      "  (0, 14354)\t1\n",
      "  (0, 24948)\t1\n",
      "  (0, 14815)\t2\n",
      "  (0, 11619)\t2\n",
      "  (0, 14885)\t2\n",
      "  (0, 30712)\t1\n",
      "  (0, 20704)\t4\n",
      "  (0, 2713)\t1\n",
      "  (0, 23010)\t1\n",
      "  (0, 26168)\t1\n",
      "  (0, 17346)\t1\n",
      "  (0, 10914)\t1\n",
      "  (0, 15706)\t2\n",
      "  (0, 18660)\t2\n",
      "  (0, 29470)\t4\n",
      "  (0, 32623)\t1\n",
      "  (0, 4047)\t1\n",
      "  (0, 29836)\t1\n",
      "  (0, 12121)\t2\n",
      "  (0, 13192)\t1\n",
      "  :\t:\n",
      "  (7627, 3338)\t1\n",
      "  (7627, 3363)\t1\n",
      "  (7627, 21578)\t1\n",
      "  (7627, 23713)\t1\n",
      "  (7627, 31583)\t1\n",
      "  (7627, 22547)\t1\n",
      "  (7627, 17997)\t1\n",
      "  (7627, 28571)\t1\n",
      "  (7627, 16929)\t1\n",
      "  (7627, 4942)\t1\n",
      "  (7627, 15024)\t2\n",
      "  (7627, 27871)\t1\n",
      "  (7627, 4575)\t1\n",
      "  (7627, 25106)\t1\n",
      "  (7627, 16307)\t1\n",
      "  (7627, 24570)\t1\n",
      "  (7627, 19855)\t1\n",
      "  (7627, 16090)\t1\n",
      "  (7627, 9222)\t1\n",
      "  (7627, 22653)\t1\n",
      "  (7627, 26317)\t1\n",
      "  (7627, 24929)\t1\n",
      "  (7627, 16533)\t1\n",
      "  (7627, 29563)\t1\n",
      "  (7627, 15025)\t1\n",
      "0       3.0\n",
      "1       0.0\n",
      "2       3.0\n",
      "3       1.0\n",
      "4       3.0\n",
      "       ... \n",
      "7623    0.0\n",
      "7624    2.0\n",
      "7625    1.0\n",
      "7626    0.0\n",
      "7627    2.0\n",
      "Name: SECTION, Length: 7628, dtype: float64\n"
     ]
    }
   ],
   "source": [
    "print(X)\n",
    "print(Y)"
   ]
  },
  {
   "cell_type": "code",
   "execution_count": 11,
   "id": "ff2371ab",
   "metadata": {},
   "outputs": [],
   "source": [
    "from sklearn.model_selection import train_test_split\n",
    "\n",
    "X_train,X_test,y_train,y_test=train_test_split(X,Y,test_size=0.20)"
   ]
  },
  {
   "cell_type": "code",
   "execution_count": 12,
   "id": "4a831617",
   "metadata": {},
   "outputs": [
    {
     "data": {
      "text/plain": [
       "MultinomialNB()"
      ]
     },
     "execution_count": 12,
     "metadata": {},
     "output_type": "execute_result"
    }
   ],
   "source": [
    "from sklearn.naive_bayes import MultinomialNB\n",
    "model=MultinomialNB()\n",
    "model.fit(X_train,y_train)"
   ]
  },
  {
   "cell_type": "code",
   "execution_count": 13,
   "id": "a78b56f3",
   "metadata": {},
   "outputs": [
    {
     "data": {
      "text/plain": [
       "1540    1.0\n",
       "5851    1.0\n",
       "2093    2.0\n",
       "6935    1.0\n",
       "4983    3.0\n",
       "4362    2.0\n",
       "5662    1.0\n",
       "7360    0.0\n",
       "529     0.0\n",
       "1985    2.0\n",
       "Name: SECTION, dtype: float64"
      ]
     },
     "execution_count": 13,
     "metadata": {},
     "output_type": "execute_result"
    }
   ],
   "source": [
    "y_test.tail(10)"
   ]
  },
  {
   "cell_type": "code",
   "execution_count": 14,
   "id": "ca31c4c3",
   "metadata": {},
   "outputs": [],
   "source": [
    "y_pred=model.predict(X_test)"
   ]
  },
  {
   "cell_type": "code",
   "execution_count": 15,
   "id": "b4eefb01",
   "metadata": {},
   "outputs": [
    {
     "data": {
      "text/plain": [
       "array([2., 2., 1., ..., 0., 0., 2.])"
      ]
     },
     "execution_count": 15,
     "metadata": {},
     "output_type": "execute_result"
    }
   ],
   "source": [
    "y_pred"
   ]
  },
  {
   "cell_type": "code",
   "execution_count": 16,
   "id": "769f02cd",
   "metadata": {},
   "outputs": [],
   "source": [
    "from sklearn.metrics import confusion_matrix,classification_report\n",
    "cm=confusion_matrix(y_test,y_pred)"
   ]
  },
  {
   "cell_type": "code",
   "execution_count": 17,
   "id": "0eb939b4",
   "metadata": {},
   "outputs": [
    {
     "data": {
      "text/plain": [
       "array([[345,   9,   1,   1],\n",
       "       [  4, 533,   6,   8],\n",
       "       [  9,   3, 355,   0],\n",
       "       [  0,   3,   0, 249]], dtype=int64)"
      ]
     },
     "execution_count": 17,
     "metadata": {},
     "output_type": "execute_result"
    }
   ],
   "source": [
    "cm"
   ]
  },
  {
   "cell_type": "code",
   "execution_count": 18,
   "id": "b30007c8",
   "metadata": {},
   "outputs": [
    {
     "name": "stdout",
     "output_type": "stream",
     "text": [
      "              precision    recall  f1-score   support\n",
      "\n",
      "         0.0       0.96      0.97      0.97       356\n",
      "         1.0       0.97      0.97      0.97       551\n",
      "         2.0       0.98      0.97      0.97       367\n",
      "         3.0       0.97      0.99      0.98       252\n",
      "\n",
      "    accuracy                           0.97      1526\n",
      "   macro avg       0.97      0.97      0.97      1526\n",
      "weighted avg       0.97      0.97      0.97      1526\n",
      "\n"
     ]
    }
   ],
   "source": [
    "print(classification_report(y_test,y_pred))"
   ]
  },
  {
   "cell_type": "code",
   "execution_count": 25,
   "id": "5b88855b",
   "metadata": {
    "scrolled": true
   },
   "outputs": [],
   "source": [
    "X=cv.fit_transform(df1['STORY'])"
   ]
  },
  {
   "cell_type": "code",
   "execution_count": 26,
   "id": "8c67f29d",
   "metadata": {},
   "outputs": [
    {
     "name": "stdout",
     "output_type": "stream",
     "text": [
      "  (0, 298)\t2\n",
      "  (0, 20886)\t3\n",
      "  (0, 16891)\t3\n",
      "  (0, 8071)\t3\n",
      "  (0, 11271)\t1\n",
      "  (0, 8117)\t1\n",
      "  (0, 17606)\t2\n",
      "  (0, 1740)\t4\n",
      "  (0, 20739)\t1\n",
      "  (0, 12019)\t2\n",
      "  (0, 5746)\t1\n",
      "  (0, 11258)\t2\n",
      "  (0, 19070)\t6\n",
      "  (0, 20152)\t2\n",
      "  (0, 7145)\t2\n",
      "  (0, 19302)\t8\n",
      "  (0, 20847)\t2\n",
      "  (0, 12993)\t4\n",
      "  (0, 11212)\t2\n",
      "  (0, 12302)\t1\n",
      "  (0, 9633)\t1\n",
      "  (0, 20921)\t1\n",
      "  (0, 4750)\t1\n",
      "  (0, 18904)\t1\n",
      "  (0, 18902)\t2\n",
      "  :\t:\n",
      "  (2747, 3053)\t1\n",
      "  (2747, 9972)\t1\n",
      "  (2747, 17805)\t1\n",
      "  (2747, 12582)\t1\n",
      "  (2747, 12977)\t4\n",
      "  (2747, 9599)\t1\n",
      "  (2747, 6475)\t1\n",
      "  (2747, 18713)\t1\n",
      "  (2747, 4676)\t1\n",
      "  (2747, 5201)\t1\n",
      "  (2747, 2702)\t1\n",
      "  (2747, 6442)\t1\n",
      "  (2747, 4675)\t1\n",
      "  (2747, 8623)\t1\n",
      "  (2747, 3419)\t1\n",
      "  (2747, 13957)\t1\n",
      "  (2747, 19478)\t1\n",
      "  (2747, 4678)\t1\n",
      "  (2747, 19047)\t1\n",
      "  (2747, 7707)\t1\n",
      "  (2747, 16224)\t2\n",
      "  (2747, 8422)\t1\n",
      "  (2747, 16843)\t1\n",
      "  (2747, 12176)\t1\n",
      "  (2747, 8350)\t1\n"
     ]
    }
   ],
   "source": [
    "print(x)"
   ]
  },
  {
   "cell_type": "code",
   "execution_count": 29,
   "id": "a27b6710",
   "metadata": {},
   "outputs": [
    {
     "data": {
      "text/html": [
       "<div>\n",
       "<style scoped>\n",
       "    .dataframe tbody tr th:only-of-type {\n",
       "        vertical-align: middle;\n",
       "    }\n",
       "\n",
       "    .dataframe tbody tr th {\n",
       "        vertical-align: top;\n",
       "    }\n",
       "\n",
       "    .dataframe thead th {\n",
       "        text-align: right;\n",
       "    }\n",
       "</style>\n",
       "<table border=\"1\" class=\"dataframe\">\n",
       "  <thead>\n",
       "    <tr style=\"text-align: right;\">\n",
       "      <th></th>\n",
       "      <th>STORY</th>\n",
       "    </tr>\n",
       "  </thead>\n",
       "  <tbody>\n",
       "    <tr>\n",
       "      <th>0</th>\n",
       "      <td>2019 will see gadgets like gaming smartphones ...</td>\n",
       "    </tr>\n",
       "    <tr>\n",
       "      <th>1</th>\n",
       "      <td>It has also unleashed a wave of changes in the...</td>\n",
       "    </tr>\n",
       "    <tr>\n",
       "      <th>2</th>\n",
       "      <td>It can be confusing to pick the right smartpho...</td>\n",
       "    </tr>\n",
       "    <tr>\n",
       "      <th>3</th>\n",
       "      <td>The mobile application is integrated with a da...</td>\n",
       "    </tr>\n",
       "    <tr>\n",
       "      <th>4</th>\n",
       "      <td>We have rounded up some of the gadgets that sh...</td>\n",
       "    </tr>\n",
       "  </tbody>\n",
       "</table>\n",
       "</div>"
      ],
      "text/plain": [
       "                                               STORY\n",
       "0  2019 will see gadgets like gaming smartphones ...\n",
       "1  It has also unleashed a wave of changes in the...\n",
       "2  It can be confusing to pick the right smartpho...\n",
       "3  The mobile application is integrated with a da...\n",
       "4  We have rounded up some of the gadgets that sh..."
      ]
     },
     "execution_count": 29,
     "metadata": {},
     "output_type": "execute_result"
    }
   ],
   "source": [
    "df1.head()"
   ]
  },
  {
   "cell_type": "code",
   "execution_count": 38,
   "id": "8347a61b",
   "metadata": {},
   "outputs": [],
   "source": [
    "xy=cv.transform(df1['STORY'])"
   ]
  },
  {
   "cell_type": "code",
   "execution_count": null,
   "id": "9b58977f",
   "metadata": {},
   "outputs": [],
   "source": [
    "pred=model.predict(cv.transform(df1['STORY'])"
   ]
  }
 ],
 "metadata": {
  "kernelspec": {
   "display_name": "Python 3 (ipykernel)",
   "language": "python",
   "name": "python3"
  },
  "language_info": {
   "codemirror_mode": {
    "name": "ipython",
    "version": 3
   },
   "file_extension": ".py",
   "mimetype": "text/x-python",
   "name": "python",
   "nbconvert_exporter": "python",
   "pygments_lexer": "ipython3",
   "version": "3.9.5"
  }
 },
 "nbformat": 4,
 "nbformat_minor": 5
}
