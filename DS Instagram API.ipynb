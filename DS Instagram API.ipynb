{
  "nbformat": 4,
  "nbformat_minor": 5,
  "metadata": {
    "language_info": {
      "name": "python",
      "version": "3.7.8",
      "mimetype": "text/x-python",
      "codemirror_mode": {
        "name": "ipython",
        "version": 3
      },
      "pygments_lexer": "ipython3",
      "nbconvert_exporter": "python",
      "file_extension": ".py"
    },
    "kernelspec": {
      "name": "python3",
      "display_name": "Python 3",
      "language": "python"
    },
    "colab": {
      "name": "DS1.ipynb",
      "provenance": []
    }
  },
  "cells": [
    {
      "cell_type": "code",
      "metadata": {
        "trusted": true,
        "colab": {
          "base_uri": "https://localhost:8080/",
          "height": 1000
        },
        "id": "KYbu-eyAgdbr",
        "outputId": "ed4eb823-d545-461d-d951-8b46fcd2ac39"
      },
      "source": [
        "pip install InstagramAPI"
      ],
      "id": "KYbu-eyAgdbr",
      "execution_count": null,
      "outputs": [
        {
          "output_type": "stream",
          "text": [
            "Collecting InstagramAPI\n",
            "  Downloading https://files.pythonhosted.org/packages/15/6d/f7eba7679fb40acb33ac75960c1aff269c2a75b32aff106266c85e3c0b93/InstagramAPI-1.0.2.tar.gz\n",
            "Collecting requests==2.11.1\n",
            "\u001b[?25l  Downloading https://files.pythonhosted.org/packages/ea/03/92d3278bf8287c5caa07dbd9ea139027d5a3592b0f4d14abf072f890fab2/requests-2.11.1-py2.py3-none-any.whl (514kB)\n",
            "\u001b[K     |████████████████████████████████| 522kB 7.3MB/s \n",
            "\u001b[?25hCollecting requests-toolbelt==0.7.0\n",
            "\u001b[?25l  Downloading https://files.pythonhosted.org/packages/57/60/cc85ca45c85585191e70e21687aeaa74ec4e555a1404628ba77b8af7d92e/requests_toolbelt-0.7.0-py2.py3-none-any.whl (52kB)\n",
            "\u001b[K     |████████████████████████████████| 61kB 7.1MB/s \n",
            "\u001b[?25hCollecting moviepy==0.2.3.2\n",
            "\u001b[?25l  Downloading https://files.pythonhosted.org/packages/e4/1f/fb4b8d9397f7952fcb594cb5df3061f00debae7ea92b3be9881c18b905ab/moviepy-0.2.3.2-py2.py3-none-any.whl (122kB)\n",
            "\u001b[K     |████████████████████████████████| 133kB 13.7MB/s \n",
            "\u001b[?25hCollecting imageio==2.1.2\n",
            "\u001b[?25l  Downloading https://files.pythonhosted.org/packages/68/31/55cad23b6bd32afee6e4c7eec2f15266665879f8eaf812e3b843205d41ad/imageio-2.1.2.zip (3.3MB)\n",
            "\u001b[K     |████████████████████████████████| 3.3MB 14.8MB/s \n",
            "\u001b[?25hRequirement already satisfied: numpy in /usr/local/lib/python3.7/dist-packages (from moviepy==0.2.3.2->InstagramAPI) (1.19.5)\n",
            "Collecting decorator==4.0.11\n",
            "  Downloading https://files.pythonhosted.org/packages/00/cc/dd79ea98a0ff5a01d714c37eddd99cd0a71557113f1511921d1ef9a083b8/decorator-4.0.11-py2.py3-none-any.whl\n",
            "Collecting tqdm==4.11.2\n",
            "\u001b[?25l  Downloading https://files.pythonhosted.org/packages/b7/0d/174388e99e21ee2c91ea318994c3f8744e26158e43cff0ec9d045bf08a96/tqdm-4.11.2-py2.py3-none-any.whl (46kB)\n",
            "\u001b[K     |████████████████████████████████| 51kB 6.0MB/s \n",
            "\u001b[?25hRequirement already satisfied: pillow in /usr/local/lib/python3.7/dist-packages (from imageio==2.1.2->moviepy==0.2.3.2->InstagramAPI) (7.1.2)\n",
            "Building wheels for collected packages: InstagramAPI, imageio\n",
            "  Building wheel for InstagramAPI (setup.py) ... \u001b[?25l\u001b[?25hdone\n",
            "  Created wheel for InstagramAPI: filename=InstagramAPI-1.0.2-cp37-none-any.whl size=14021 sha256=eeb3c27cf16b28588db38da19c5b8f15b73e6d8a390fa650873ca3e89c36b6ee\n",
            "  Stored in directory: /root/.cache/pip/wheels/6c/00/8f/ff713f248704d409ad2c2fc1352ce62b2b4d7d12a75267a911\n",
            "  Building wheel for imageio (setup.py) ... \u001b[?25l\u001b[?25hdone\n",
            "  Created wheel for imageio: filename=imageio-2.1.2-cp37-none-any.whl size=3248800 sha256=0525865c3c4d20e21a652ec99c771763c379e6edb34cfd4dac08fc4461a0efa5\n",
            "  Stored in directory: /root/.cache/pip/wheels/46/d7/61/fe435bf3dc20403ff38ffed213528ae710b4301ac6b403c582\n",
            "Successfully built InstagramAPI imageio\n",
            "\u001b[31mERROR: tensorflow-datasets 4.0.1 has requirement requests>=2.19.0, but you'll have requests 2.11.1 which is incompatible.\u001b[0m\n",
            "\u001b[31mERROR: tensorboard 2.4.1 has requirement requests<3,>=2.21.0, but you'll have requests 2.11.1 which is incompatible.\u001b[0m\n",
            "\u001b[31mERROR: spacy 2.2.4 has requirement requests<3.0.0,>=2.13.0, but you'll have requests 2.11.1 which is incompatible.\u001b[0m\n",
            "\u001b[31mERROR: spacy 2.2.4 has requirement tqdm<5.0.0,>=4.38.0, but you'll have tqdm 4.11.2 which is incompatible.\u001b[0m\n",
            "\u001b[31mERROR: scikit-image 0.16.2 has requirement imageio>=2.3.0, but you'll have imageio 2.1.2 which is incompatible.\u001b[0m\n",
            "\u001b[31mERROR: pandas-datareader 0.9.0 has requirement requests>=2.19.0, but you'll have requests 2.11.1 which is incompatible.\u001b[0m\n",
            "\u001b[31mERROR: networkx 2.5.1 has requirement decorator<5,>=4.3, but you'll have decorator 4.0.11 which is incompatible.\u001b[0m\n",
            "\u001b[31mERROR: google-colab 1.0.0 has requirement requests~=2.23.0, but you'll have requests 2.11.1 which is incompatible.\u001b[0m\n",
            "\u001b[31mERROR: google-api-core 1.26.3 has requirement requests<3.0.0dev,>=2.18.0, but you'll have requests 2.11.1 which is incompatible.\u001b[0m\n",
            "\u001b[31mERROR: fbprophet 0.7.1 has requirement tqdm>=4.36.1, but you'll have tqdm 4.11.2 which is incompatible.\u001b[0m\n",
            "\u001b[31mERROR: datascience 0.10.6 has requirement folium==0.2.1, but you'll have folium 0.8.3 which is incompatible.\u001b[0m\n",
            "\u001b[31mERROR: albumentations 0.1.12 has requirement imgaug<0.2.7,>=0.2.5, but you'll have imgaug 0.2.9 which is incompatible.\u001b[0m\n",
            "Installing collected packages: requests, requests-toolbelt, imageio, decorator, tqdm, moviepy, InstagramAPI\n",
            "  Found existing installation: requests 2.23.0\n",
            "    Uninstalling requests-2.23.0:\n",
            "      Successfully uninstalled requests-2.23.0\n",
            "  Found existing installation: imageio 2.4.1\n",
            "    Uninstalling imageio-2.4.1:\n",
            "      Successfully uninstalled imageio-2.4.1\n",
            "  Found existing installation: decorator 4.4.2\n",
            "    Uninstalling decorator-4.4.2:\n",
            "      Successfully uninstalled decorator-4.4.2\n",
            "  Found existing installation: tqdm 4.41.1\n",
            "    Uninstalling tqdm-4.41.1:\n",
            "      Successfully uninstalled tqdm-4.41.1\n",
            "  Found existing installation: moviepy 0.2.3.5\n",
            "    Uninstalling moviepy-0.2.3.5:\n",
            "      Successfully uninstalled moviepy-0.2.3.5\n",
            "Successfully installed InstagramAPI-1.0.2 decorator-4.0.11 imageio-2.1.2 moviepy-0.2.3.2 requests-2.11.1 requests-toolbelt-0.7.0 tqdm-4.11.2\n"
          ],
          "name": "stdout"
        },
        {
          "output_type": "display_data",
          "data": {
            "application/vnd.colab-display-data+json": {
              "pip_warning": {
                "packages": [
                  "decorator"
                ]
              }
            }
          },
          "metadata": {
            "tags": []
          }
        }
      ]
    },
    {
      "cell_type": "code",
      "metadata": {
        "trusted": true,
        "id": "mXQ6MqwXgdbu"
      },
      "source": [
        "from InstagramAPI import InstagramAPI\n",
        "import pandas as pd\n",
        "import time\n",
        "from pandas.io.json import json_normalize"
      ],
      "id": "mXQ6MqwXgdbu",
      "execution_count": null,
      "outputs": []
    },
    {
      "cell_type": "code",
      "metadata": {
        "trusted": true,
        "colab": {
          "base_uri": "https://localhost:8080/"
        },
        "id": "yXtnzw4egdbv",
        "outputId": "bc113f38-8b92-42f8-a0b9-f0628f468665"
      },
      "source": [
        "def login_to_instagram(username, password):\n",
        "    api = InstagramAPI(username, password)\n",
        "    api.login()\n",
        "    \n",
        "    return api\n",
        "\n",
        "api = login_to_instagram('babi__0011','**********')"
      ],
      "id": "yXtnzw4egdbv",
      "execution_count": null,
      "outputs": [
        {
          "output_type": "stream",
          "text": [
            "Request return 405 error!\n",
            "{'message': '', 'status': 'fail'}\n",
            "Request return 404 error!\n",
            "Login success!\n",
            "\n"
          ],
          "name": "stdout"
        }
      ]
    },
    {
      "cell_type": "code",
      "metadata": {
        "trusted": true,
        "colab": {
          "base_uri": "https://localhost:8080/"
        },
        "id": "mlJlsMJvgdbv",
        "outputId": "5a9279d9-dcbc-4c1a-d187-67d213a3897c"
      },
      "source": [
        "def get_my_posts(api):\n",
        "    '''Retrieve all posts from own profile'''\n",
        "    my_posts = []\n",
        "    has_more_posts = True\n",
        "    max_id= ''\n",
        "\n",
        "    while has_more_posts:\n",
        "        api.getSelfUserFeed(maxid=max_id)\n",
        "        if api.LastJson['more_available'] is not True:\n",
        "            has_more_posts = False #stop condition\n",
        "\n",
        "        max_id = api.LastJson.get('next_max_id','')\n",
        "        my_posts.extend(api.LastJson['items']) #merge lists\n",
        "        time.sleep(2) # slows down to avoid flooding\n",
        "\n",
        "        if has_more_posts:\n",
        "            print(str(len(my_posts)) + ' posts retrieved so far...')\n",
        "\n",
        "    print('Total posts retrieved: ' + str(len(my_posts)))\n",
        "    \n",
        "    return my_posts\n",
        "\n",
        "my_posts = get_my_posts(api)"
      ],
      "id": "mlJlsMJvgdbv",
      "execution_count": null,
      "outputs": [
        {
          "output_type": "stream",
          "text": [
            "Total posts retrieved: 3\n"
          ],
          "name": "stdout"
        }
      ]
    },
    {
      "cell_type": "code",
      "metadata": {
        "trusted": true,
        "colab": {
          "base_uri": "https://localhost:8080/"
        },
        "id": "dI_4k8n0gdbw",
        "outputId": "714f0a60-8be6-4f28-bc3c-fc824d78d243"
      },
      "source": [
        "def get_posts_likers(api, my_posts):\n",
        "    '''Retrieve all likers on all posts'''\n",
        "    \n",
        "    likers = []\n",
        "    \n",
        "    print('wait %.1f minutes' % (len(my_posts)*2/60.))\n",
        "    for i in range(len(my_posts)):\n",
        "        m_id = my_posts[i]['id']\n",
        "        api.getMediaLikers(m_id)\n",
        "        \n",
        "        likers += [api.LastJson]\n",
        "        \n",
        "        # Include post_id in likers dict list\n",
        "        likers[i]['post_id'] = m_id\n",
        "        \n",
        "        time.sleep(2)\n",
        "    print('done')\n",
        "    \n",
        "    return likers\n",
        "\n",
        "a=get_posts_likers(api,my_posts)"
      ],
      "id": "dI_4k8n0gdbw",
      "execution_count": null,
      "outputs": [
        {
          "output_type": "stream",
          "text": [
            "wait 0.1 minutes\n",
            "done\n"
          ],
          "name": "stdout"
        }
      ]
    },
    {
      "cell_type": "code",
      "metadata": {
        "trusted": true,
        "colab": {
          "base_uri": "https://localhost:8080/"
        },
        "id": "bDFF82uagdbw",
        "outputId": "ce215d2e-110c-4891-a3df-6a616415dc0e"
      },
      "source": [
        "def get_posts_commenters(api, my_posts):\n",
        "    '''Retrieve all commenters on all posts '''\n",
        "    \n",
        "    commenters = []\n",
        "    \n",
        "    print('wait %.1f minutes' % (len(my_posts)*2/60.))\n",
        "    for i in range(len(my_posts)):\n",
        "        m_id = my_posts[i]['id']\n",
        "        api.getMediaComments(m_id)\n",
        "        \n",
        "        commenters += [api.LastJson]\n",
        "        \n",
        "        # Include post_id in commenters dict list\n",
        "        commenters[i]['post_id'] = m_id\n",
        "            \n",
        "        time.sleep(2)\n",
        "    print('done')\n",
        "    \n",
        "    return commenters\n",
        "\n",
        "commenters = get_posts_commenters(api, my_posts)"
      ],
      "id": "bDFF82uagdbw",
      "execution_count": null,
      "outputs": [
        {
          "output_type": "stream",
          "text": [
            "wait 0.1 minutes\n",
            "done\n"
          ],
          "name": "stdout"
        }
      ]
    },
    {
      "cell_type": "code",
      "metadata": {
        "trusted": true,
        "id": "9S-Jz1tIgdbx"
      },
      "source": [
        "def posts_likers_to_df(likers):\n",
        "    '''Transforms likers list of dicts into pandas DataFrame'''\n",
        "    \n",
        "    # Normalize likers by getting the 'users' list and the post_id of each like\n",
        "    df_likers = json_normalize(likers, 'users', ['post_id'])\n",
        "    \n",
        "    # Add 'content_type' column to know the rows are likes\n",
        "    df_likers['content_type'] = 'like'\n",
        "    \n",
        "    return df_likers\n",
        "\n",
        "def posts_commenters_to_df(commenters):\n",
        "    '''Transforms commenters list of dicts into pandas DataFrame'''\n",
        "    \n",
        "    # Include username and full_name of commenter in 'comments' list of dicts\n",
        "    for i in range(len(commenters)):\n",
        "        if len(commenters[i]['comments']) > 0: # checks if there is any comment on the post\n",
        "            for j in range(len(commenters[i]['comments'])):\n",
        "                # Puts username/full_name one level up\n",
        "                commenters[i]['comments'][j]['username'] = commenters[i]['comments'][j]['user']['username']\n",
        "                commenters[i]['comments'][j]['full_name'] = commenters[i]['comments'][j]['user']['full_name']\n",
        "                \n",
        "    # Create DataFrame\n",
        "    # Normalize commenters to have 1 row per comment, and gets 'post_id' from parent \n",
        "    df_commenters = json_normalize(commenters, 'comments', 'post_id')\n",
        "    \n",
        "    \n",
        "    return df_commenters\n",
        "\n",
        "df_likers = posts_likers_to_df(a)\n",
        "df_commenters = posts_commenters_to_df(commenters)"
      ],
      "id": "9S-Jz1tIgdbx",
      "execution_count": null,
      "outputs": []
    },
    {
      "cell_type": "code",
      "metadata": {
        "trusted": true,
        "colab": {
          "base_uri": "https://localhost:8080/"
        },
        "id": "jEZQak3Dgdby",
        "outputId": "7a3e5b03-17a5-42fc-a229-b745a6931915"
      },
      "source": [
        "print('Total posts: ' + str(len(my_posts)))\n",
        "print('---------')\n",
        "print('Total likes on profile: ' + str(df_likers.shape[0])) #shape[0] represents number of rows\n",
        "print('Distinct users that liked your posts: ' +str(df_likers.username.nunique())) # nunique() will count distinct values of a col\n",
        "print('---------')\n",
        "print('Total comments on profile: ' + str(df_commenters.shape[0]))\n",
        "print('Distinct users that commented your posts: ' +str(df_commenters.username.nunique()))"
      ],
      "id": "jEZQak3Dgdby",
      "execution_count": null,
      "outputs": [
        {
          "output_type": "stream",
          "text": [
            "Total posts: 3\n",
            "---------\n",
            "Total likes on profile: 32\n",
            "Distinct users that liked your posts: 19\n",
            "---------\n",
            "Total comments on profile: 2\n",
            "Distinct users that commented your posts: 2\n"
          ],
          "name": "stdout"
        }
      ]
    },
    {
      "cell_type": "code",
      "metadata": {
        "trusted": true,
        "colab": {
          "base_uri": "https://localhost:8080/"
        },
        "id": "YP6qtrUVgdby",
        "outputId": "6215e8da-ca3f-412d-b306-cb25e1609e7d"
      },
      "source": [
        "df_likers.username.value_counts()[:10]"
      ],
      "id": "YP6qtrUVgdby",
      "execution_count": null,
      "outputs": [
        {
          "output_type": "execute_result",
          "data": {
            "text/plain": [
              "hanith_chowdary_      3\n",
              "shanmukh02            3\n",
              "deepak_ragidi         3\n",
              "mohansaimanikanta     3\n",
              "yogesh___0011         2\n",
              "naga_durga_rao        2\n",
              "preethi_dietitian     2\n",
              "bhanuchandrapati07    2\n",
              "gopichand._.kota      2\n",
              "ehteshama672          1\n",
              "Name: username, dtype: int64"
            ]
          },
          "metadata": {
            "tags": []
          },
          "execution_count": 17
        }
      ]
    },
    {
      "cell_type": "code",
      "metadata": {
        "trusted": true,
        "colab": {
          "base_uri": "https://localhost:8080/",
          "height": 501
        },
        "id": "phoJ42kqgdby",
        "outputId": "8d15c209-3096-4c6d-82c2-218a52de8619"
      },
      "source": [
        "df_likers.username.value_counts()[:10].plot(kind='bar', title='Top 10 media likers', grid=True, figsize=(12,6))"
      ],
      "id": "phoJ42kqgdby",
      "execution_count": null,
      "outputs": [
        {
          "output_type": "execute_result",
          "data": {
            "text/plain": [
              "<matplotlib.axes._subplots.AxesSubplot at 0x7f7b0fd902d0>"
            ]
          },
          "metadata": {
            "tags": []
          },
          "execution_count": 18
        },
        {
          "output_type": "display_data",
          "data": {
            "image/png": "[encoded data removed]",
            "text/plain": [
              "<Figure size 864x432 with 1 Axes>"
            ]
          },
          "metadata": {
            "tags": [],
            "needs_background": "light"
          }
        }
      ]
    },
    {
      "cell_type": "code",
      "metadata": {
        "trusted": true,
        "colab": {
          "base_uri": "https://localhost:8080/",
          "height": 390
        },
        "id": "_9QswQMtgdbz",
        "outputId": "00dc4ea0-387e-4fdc-f44d-0f54316e3a16"
      },
      "source": [
        "df_likers.username.value_counts()[:10].plot(kind='pie', title='Top 10 media likers distribution', autopct='%1.1f%%', figsize=(12,6))"
      ],
      "id": "_9QswQMtgdbz",
      "execution_count": null,
      "outputs": [
        {
          "output_type": "execute_result",
          "data": {
            "text/plain": [
              "<matplotlib.axes._subplots.AxesSubplot at 0x7f7b0fd81810>"
            ]
          },
          "metadata": {
            "tags": []
          },
          "execution_count": 19
        },
        {
          "output_type": "display_data",
          "data": {
            "image/png": "[encoded data removed]",
            "text/plain": [
              "<Figure size 864x432 with 1 Axes>"
            ]
          },
          "metadata": {
            "tags": []
          }
        }
      ]
    },
    {
      "cell_type": "code",
      "metadata": {
        "trusted": true,
        "colab": {
          "base_uri": "https://localhost:8080/",
          "height": 493
        },
        "id": "7nRpRHRxgdbz",
        "outputId": "2d627a55-7e57-4d80-86c8-12b82a8e8651"
      },
      "source": [
        "df_commenters['username'].value_counts()[:10].plot(kind='bar', figsize=(12,6), title='Top 10 post commenters')"
      ],
      "id": "7nRpRHRxgdbz",
      "execution_count": null,
      "outputs": [
        {
          "output_type": "execute_result",
          "data": {
            "text/plain": [
              "<matplotlib.axes._subplots.AxesSubplot at 0x7f7b0fd40790>"
            ]
          },
          "metadata": {
            "tags": []
          },
          "execution_count": 20
        },
        {
          "output_type": "display_data",
          "data": {
            "image/png": "[encoded data removed]",
            "text/plain": [
              "<Figure size 864x432 with 1 Axes>"
            ]
          },
          "metadata": {
            "tags": [],
            "needs_background": "light"
          }
        }
      ]
    },
    {
      "cell_type": "code",
      "metadata": {
        "id": "hNEycJhngdb0"
      },
      "source": [
        ""
      ],
      "id": "hNEycJhngdb0",
      "execution_count": null,
      "outputs": []
    }
  ]
}