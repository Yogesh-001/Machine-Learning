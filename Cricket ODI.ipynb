{
  "nbformat": 4,
  "nbformat_minor": 0,
  "metadata": {
    "colab": {
      "name": "Cricket",
      "provenance": []
    },
    "kernelspec": {
      "name": "python3",
      "display_name": "Python 3"
    },
    "language_info": {
      "name": "python"
    }
  },
  "cells": [
    {
      "cell_type": "code",
      "metadata": {
        "id": "Ad3QgxfxegaW",
        "colab": {
          "base_uri": "https://localhost:8080/",
          "height": 17
        },
        "outputId": "1f2dc4cd-7d06-4e5b-ad23-12f59b4b89eb"
      },
      "source": [
        "import numpy as np\n",
        "import pandas as pd\n",
        "import matplotlib.pyplot as plt\n",
        "import seaborn as sns\n",
        "plt.style.use('fivethirtyeight')\n",
        "import plotly.offline as py\n",
        "py.init_notebook_mode(connected=False)\n",
        "import plotly.graph_objs as go\n",
        "import plotly.tools as tls\n",
        "import datetime as dt\n",
        "import networkx as nx \n",
        "import os"
      ],
      "execution_count": null,
      "outputs": []
    },
    {
      "cell_type": "code",
      "metadata": {
        "id": "mVqWI_QEer8-"
      },
      "source": [
        "matches=pd.read_csv('ContinousDataset.csv') "
      ],
      "execution_count": null,
      "outputs": []
    },
    {
      "cell_type": "code",
      "metadata": {
        "id": "RHRU0lAHetrZ"
      },
      "source": [
        "def hwin(s):\n",
        "      if (s['Winner'] == s['Team 1']  and s['Venue_Team1'] == \"Home\"):\n",
        "              return s['Team 1']\n",
        "      elif (s['Winner'] == s['Team 2']  and s['Venue_Team2'] == \"Home\"):\n",
        "              return s['Team 2']              \n",
        "      else :\n",
        "          return np.nan\n",
        "\n",
        "def awin(s):\n",
        "      if (s['Winner'] == s['Team 1']  and s['Venue_Team1'] in( \"Away\",'Neutral')):\n",
        "              return s['Team 1']\n",
        "      elif (s['Winner'] == s['Team 2']  and s['Venue_Team2'] in( \"Away\",'Neutral')):\n",
        "              return s['Team 2']\n",
        "              \n",
        "      else :\n",
        "          return np.nan\n",
        "\n",
        "def hloss(s):\n",
        "      if (s['Winner'] != s['Team 1']  and s['Venue_Team1'] == \"Home\"):\n",
        "              return s['Team 1']\n",
        "      elif (s['Winner'] != s['Team 2']  and s['Venue_Team2'] == \"Home\"):\n",
        "              return s['Team 2']\n",
        "              \n",
        "      else :\n",
        "          return np.nan\n",
        "\n",
        "def aloss(s):\n",
        "      if (s['Winner'] != s['Team 1']  and s['Venue_Team1'] in( \"Away\",'Neutral')):\n",
        "              return s['Team 1']\n",
        "      elif (s['Winner'] != s['Team 2']  and s['Venue_Team2'] in( \"Away\",'Neutral')):\n",
        "              return s['Team 2']          \n",
        "      else :\n",
        "          return np.nan\n",
        "\n",
        "def FirstInningsWinner(s):\n",
        "      if (s['Winner'] == s['Team 1']  and s['Innings_Team1'] in( \"First\")):\n",
        "              return s['Team 1']\n",
        "      elif (s['Winner'] == s['Team 2']  and s['Innings_Team2'] in( \"First\")):\n",
        "              return s['Team 2']          \n",
        "      else :\n",
        "          return np.nan"
      ],
      "execution_count": null,
      "outputs": []
    },
    {
      "cell_type": "code",
      "metadata": {
        "id": "UrQ5iyf-e-r5"
      },
      "source": [
        "matches['Year']=matches['Match Date'].str[-4:]\n",
        "matches_played_byteams=pd.concat([matches['Team 1'],matches['Team 2']])\n",
        "matches_played_byteams=matches_played_byteams.value_counts().reset_index()\n",
        "matches_played_byteams.columns=['Team','Total Matches']\n",
        "matches['HomeWin']= matches.apply(hwin,axis=1)\n",
        "matches['AwayWin']= matches.apply(awin,axis=1)\n",
        "matches['HomeLoss']= matches.apply(hloss,axis=1)\n",
        "matches['AwayLoss']= matches.apply(aloss,axis=1)\n",
        "matches['FistInningsWinner']= matches.apply(FirstInningsWinner,axis=1)\n",
        "matches_played_byteams.set_index('Team',inplace=True)"
      ],
      "execution_count": null,
      "outputs": []
    },
    {
      "cell_type": "code",
      "metadata": {
        "id": "ihB7hbqqfBD2"
      },
      "source": [
        "Winner=matches['Winner'].value_counts().sort_values( ascending= False ).reset_index()\n",
        "Winner.set_index('index',inplace=True)\n",
        "HomeWin=matches['HomeWin'].value_counts().sort_values( ascending= False ).reset_index()\n",
        "HomeWin.set_index('index',inplace=True)\n",
        "AwayWin=matches['AwayWin'].value_counts().sort_values( ascending= False ).reset_index()\n",
        "AwayWin.set_index('index',inplace=True)\n",
        "HomeLoss=matches['HomeLoss'].value_counts().sort_values( ascending= False ).reset_index()\n",
        "HomeLoss.set_index('index',inplace=True)\n",
        "AwayLoss=matches['AwayLoss'].value_counts().sort_values( ascending= False ).reset_index()\n",
        "AwayLoss.set_index('index',inplace=True)\n",
        "\n",
        "FistInningsWinner=matches['FistInningsWinner'].value_counts().sort_values( ascending= False ).reset_index()\n",
        "FistInningsWinner.set_index('index',inplace=True)"
      ],
      "execution_count": null,
      "outputs": []
    },
    {
      "cell_type": "code",
      "metadata": {
        "id": "9vABcBo8fDZd"
      },
      "source": [
        "matches_played_byteams['Total Matches'] =matches_played_byteams['Total Matches']/2\n",
        "matches_played_byteams['wins']=Winner['Winner']/2\n",
        "matches_played_byteams['HomeWin']=HomeWin['HomeWin']/2\n",
        "matches_played_byteams['AwayWin']=AwayWin['AwayWin']/2\n",
        "matches_played_byteams['HomeLoss']=HomeLoss['HomeLoss']/2\n",
        "matches_played_byteams['AwayLoss']=AwayLoss['AwayLoss']/2\n",
        "matches_played_byteams['FistInningsWinner']=FistInningsWinner['FistInningsWinner']/2\n",
        "matches_played_byteams['SecondInningsWinner']=matches_played_byteams['wins']-matches_played_byteams['FistInningsWinner']\n",
        "matches_played_byteams['HomeTotal']=matches_played_byteams['HomeWin']+ matches_played_byteams['HomeLoss']\n",
        "matches_played_byteams['AwayTotal']=matches_played_byteams['AwayWin']+ matches_played_byteams['AwayLoss']"
      ],
      "execution_count": null,
      "outputs": []
    },
    {
      "cell_type": "code",
      "metadata": {
        "colab": {
          "base_uri": "https://localhost:8080/",
          "height": 468
        },
        "id": "xiEeeoPOfFeY",
        "outputId": "e35edcfe-308e-4e84-9012-c7e570751213"
      },
      "source": [
        "barWidth = 0.85\n",
        "plt.subplots(figsize=(12,6))\n",
        "plt.bar(matches_played_byteams.index, matches_played_byteams['Total Matches'], color='#b5ffb9', edgecolor='white', width=barWidth)\n",
        "plt.bar(matches_played_byteams.index, matches_played_byteams['wins'], color='#f9bc86', edgecolor='red', width=barWidth)\n",
        "plt.xticks(matches_played_byteams.index, matches_played_byteams.index,rotation='vertical')\n",
        "plt.xlabel(\"group\")\n",
        "plt.title('Total Match vs wins',size=25)\n",
        "plt.show() "
      ],
      "execution_count": null,
      "outputs": [
        {
          "output_type": "display_data",
          "data": {
            "image/png": "[encoded data removed]",
            "text/plain": [
              "<Figure size 864x432 with 1 Axes>"
            ]
          },
          "metadata": {
            "tags": [],
            "needs_background": "light"
          }
        }
      ]
    },
    {
      "cell_type": "code",
      "metadata": {
        "id": "RHClMtZUfIEf",
        "colab": {
          "base_uri": "https://localhost:8080/",
          "height": 468
        },
        "outputId": "acf6cb15-1eb0-42e8-c930-2571952a77ff"
      },
      "source": [
        "barWidth = 0.85\n",
        "plt.subplots(figsize=(12,6))\n",
        "plt.bar(matches_played_byteams.index, matches_played_byteams['HomeTotal'], color='#b5ffb9', edgecolor='white', width=barWidth)\n",
        "plt.bar(matches_played_byteams.index, matches_played_byteams['HomeWin'], color='#f9bc86', edgecolor='red', width=barWidth)\n",
        "plt.xticks(matches_played_byteams.index, matches_played_byteams.index,rotation='vertical')\n",
        "plt.xlabel(\"group\")\n",
        "plt.title('Home Ground vs wins',size=25)\n",
        "plt.show()     "
      ],
      "execution_count": null,
      "outputs": [
        {
          "output_type": "display_data",
          "data": {
            "image/png": "[encoded data removed]",
            "text/plain": [
              "<Figure size 864x432 with 1 Axes>"
            ]
          },
          "metadata": {
            "tags": [],
            "needs_background": "light"
          }
        }
      ]
    },
    {
      "cell_type": "code",
      "metadata": {
        "colab": {
          "base_uri": "https://localhost:8080/",
          "height": 195
        },
        "id": "4BBDdmz3fKjX",
        "outputId": "7f1ff230-f1ee-4c66-94e0-949de205402b"
      },
      "source": [
        "team_result=teams.drop(['date','Margin','Ground'],axis=1)\n",
        "team_result.head()"
      ],
      "execution_count": null,
      "outputs": [
        {
          "output_type": "execute_result",
          "data": {
            "text/html": [
              "<div>\n",
              "<style scoped>\n",
              "    .dataframe tbody tr th:only-of-type {\n",
              "        vertical-align: middle;\n",
              "    }\n",
              "\n",
              "    .dataframe tbody tr th {\n",
              "        vertical-align: top;\n",
              "    }\n",
              "\n",
              "    .dataframe thead th {\n",
              "        text-align: right;\n",
              "    }\n",
              "</style>\n",
              "<table border=\"1\" class=\"dataframe\">\n",
              "  <thead>\n",
              "    <tr style=\"text-align: right;\">\n",
              "      <th></th>\n",
              "      <th>Team_1</th>\n",
              "      <th>Team_2</th>\n",
              "      <th>Winner</th>\n",
              "    </tr>\n",
              "  </thead>\n",
              "  <tbody>\n",
              "    <tr>\n",
              "      <th>0</th>\n",
              "      <td>Bangladesh</td>\n",
              "      <td>Sri Lanka</td>\n",
              "      <td>Sri Lanka</td>\n",
              "    </tr>\n",
              "    <tr>\n",
              "      <th>1</th>\n",
              "      <td>India</td>\n",
              "      <td>Sri Lanka</td>\n",
              "      <td>Sri Lanka</td>\n",
              "    </tr>\n",
              "    <tr>\n",
              "      <th>2</th>\n",
              "      <td>Bangladesh</td>\n",
              "      <td>India</td>\n",
              "      <td>India</td>\n",
              "    </tr>\n",
              "    <tr>\n",
              "      <th>3</th>\n",
              "      <td>Bangladesh</td>\n",
              "      <td>Sri Lanka</td>\n",
              "      <td>Sri Lanka</td>\n",
              "    </tr>\n",
              "    <tr>\n",
              "      <th>4</th>\n",
              "      <td>India</td>\n",
              "      <td>Sri Lanka</td>\n",
              "      <td>India</td>\n",
              "    </tr>\n",
              "  </tbody>\n",
              "</table>\n",
              "</div>"
            ],
            "text/plain": [
              "       Team_1     Team_2     Winner\n",
              "0  Bangladesh  Sri Lanka  Sri Lanka\n",
              "1       India  Sri Lanka  Sri Lanka\n",
              "2  Bangladesh      India      India\n",
              "3  Bangladesh  Sri Lanka  Sri Lanka\n",
              "4       India  Sri Lanka      India"
            ]
          },
          "metadata": {
            "tags": []
          },
          "execution_count": 10
        }
      ]
    },
    {
      "cell_type": "code",
      "metadata": {
        "colab": {
          "base_uri": "https://localhost:8080/",
          "height": 282
        },
        "id": "thbLo_h6fMxv",
        "outputId": "001c9365-00fb-4b32-8fda-b560894bd46b"
      },
      "source": [
        "final_result= pd.get_dummies(team_result, prefix=['Team_1', 'Team_2'], columns=['Team_1', 'Team_2'])\n",
        "final_result.head()"
      ],
      "execution_count": null,
      "outputs": [
        {
          "output_type": "execute_result",
          "data": {
            "text/html": [
              "<div>\n",
              "<style scoped>\n",
              "    .dataframe tbody tr th:only-of-type {\n",
              "        vertical-align: middle;\n",
              "    }\n",
              "\n",
              "    .dataframe tbody tr th {\n",
              "        vertical-align: top;\n",
              "    }\n",
              "\n",
              "    .dataframe thead th {\n",
              "        text-align: right;\n",
              "    }\n",
              "</style>\n",
              "<table border=\"1\" class=\"dataframe\">\n",
              "  <thead>\n",
              "    <tr style=\"text-align: right;\">\n",
              "      <th></th>\n",
              "      <th>Winner</th>\n",
              "      <th>Team_1_Afghanistan</th>\n",
              "      <th>Team_1_Australia</th>\n",
              "      <th>Team_1_Bangladesh</th>\n",
              "      <th>Team_1_Canada</th>\n",
              "      <th>Team_1_England</th>\n",
              "      <th>Team_1_India</th>\n",
              "      <th>Team_1_Ireland</th>\n",
              "      <th>Team_1_Kenya</th>\n",
              "      <th>Team_1_Netherlands</th>\n",
              "      <th>Team_1_New Zealand</th>\n",
              "      <th>Team_1_Pakistan</th>\n",
              "      <th>Team_1_Scotland</th>\n",
              "      <th>Team_1_South Africa</th>\n",
              "      <th>Team_1_Sri Lanka</th>\n",
              "      <th>Team_1_U.A.E.</th>\n",
              "      <th>Team_1_West Indies</th>\n",
              "      <th>Team_1_Zimbabwe</th>\n",
              "      <th>Team_2_Afghanistan</th>\n",
              "      <th>Team_2_Australia</th>\n",
              "      <th>Team_2_Bangladesh</th>\n",
              "      <th>Team_2_Canada</th>\n",
              "      <th>Team_2_England</th>\n",
              "      <th>Team_2_Hong Kong</th>\n",
              "      <th>Team_2_India</th>\n",
              "      <th>Team_2_Ireland</th>\n",
              "      <th>Team_2_Kenya</th>\n",
              "      <th>Team_2_Netherlands</th>\n",
              "      <th>Team_2_New Zealand</th>\n",
              "      <th>Team_2_Pakistan</th>\n",
              "      <th>Team_2_Scotland</th>\n",
              "      <th>Team_2_South Africa</th>\n",
              "      <th>Team_2_Sri Lanka</th>\n",
              "      <th>Team_2_U.A.E.</th>\n",
              "      <th>Team_2_West Indies</th>\n",
              "      <th>Team_2_Zimbabwe</th>\n",
              "    </tr>\n",
              "  </thead>\n",
              "  <tbody>\n",
              "    <tr>\n",
              "      <th>0</th>\n",
              "      <td>Sri Lanka</td>\n",
              "      <td>0</td>\n",
              "      <td>0</td>\n",
              "      <td>1</td>\n",
              "      <td>0</td>\n",
              "      <td>0</td>\n",
              "      <td>0</td>\n",
              "      <td>0</td>\n",
              "      <td>0</td>\n",
              "      <td>0</td>\n",
              "      <td>0</td>\n",
              "      <td>0</td>\n",
              "      <td>0</td>\n",
              "      <td>0</td>\n",
              "      <td>0</td>\n",
              "      <td>0</td>\n",
              "      <td>0</td>\n",
              "      <td>0</td>\n",
              "      <td>0</td>\n",
              "      <td>0</td>\n",
              "      <td>0</td>\n",
              "      <td>0</td>\n",
              "      <td>0</td>\n",
              "      <td>0</td>\n",
              "      <td>0</td>\n",
              "      <td>0</td>\n",
              "      <td>0</td>\n",
              "      <td>0</td>\n",
              "      <td>0</td>\n",
              "      <td>0</td>\n",
              "      <td>0</td>\n",
              "      <td>0</td>\n",
              "      <td>1</td>\n",
              "      <td>0</td>\n",
              "      <td>0</td>\n",
              "      <td>0</td>\n",
              "    </tr>\n",
              "    <tr>\n",
              "      <th>1</th>\n",
              "      <td>Sri Lanka</td>\n",
              "      <td>0</td>\n",
              "      <td>0</td>\n",
              "      <td>0</td>\n",
              "      <td>0</td>\n",
              "      <td>0</td>\n",
              "      <td>1</td>\n",
              "      <td>0</td>\n",
              "      <td>0</td>\n",
              "      <td>0</td>\n",
              "      <td>0</td>\n",
              "      <td>0</td>\n",
              "      <td>0</td>\n",
              "      <td>0</td>\n",
              "      <td>0</td>\n",
              "      <td>0</td>\n",
              "      <td>0</td>\n",
              "      <td>0</td>\n",
              "      <td>0</td>\n",
              "      <td>0</td>\n",
              "      <td>0</td>\n",
              "      <td>0</td>\n",
              "      <td>0</td>\n",
              "      <td>0</td>\n",
              "      <td>0</td>\n",
              "      <td>0</td>\n",
              "      <td>0</td>\n",
              "      <td>0</td>\n",
              "      <td>0</td>\n",
              "      <td>0</td>\n",
              "      <td>0</td>\n",
              "      <td>0</td>\n",
              "      <td>1</td>\n",
              "      <td>0</td>\n",
              "      <td>0</td>\n",
              "      <td>0</td>\n",
              "    </tr>\n",
              "    <tr>\n",
              "      <th>2</th>\n",
              "      <td>India</td>\n",
              "      <td>0</td>\n",
              "      <td>0</td>\n",
              "      <td>1</td>\n",
              "      <td>0</td>\n",
              "      <td>0</td>\n",
              "      <td>0</td>\n",
              "      <td>0</td>\n",
              "      <td>0</td>\n",
              "      <td>0</td>\n",
              "      <td>0</td>\n",
              "      <td>0</td>\n",
              "      <td>0</td>\n",
              "      <td>0</td>\n",
              "      <td>0</td>\n",
              "      <td>0</td>\n",
              "      <td>0</td>\n",
              "      <td>0</td>\n",
              "      <td>0</td>\n",
              "      <td>0</td>\n",
              "      <td>0</td>\n",
              "      <td>0</td>\n",
              "      <td>0</td>\n",
              "      <td>0</td>\n",
              "      <td>1</td>\n",
              "      <td>0</td>\n",
              "      <td>0</td>\n",
              "      <td>0</td>\n",
              "      <td>0</td>\n",
              "      <td>0</td>\n",
              "      <td>0</td>\n",
              "      <td>0</td>\n",
              "      <td>0</td>\n",
              "      <td>0</td>\n",
              "      <td>0</td>\n",
              "      <td>0</td>\n",
              "    </tr>\n",
              "    <tr>\n",
              "      <th>3</th>\n",
              "      <td>Sri Lanka</td>\n",
              "      <td>0</td>\n",
              "      <td>0</td>\n",
              "      <td>1</td>\n",
              "      <td>0</td>\n",
              "      <td>0</td>\n",
              "      <td>0</td>\n",
              "      <td>0</td>\n",
              "      <td>0</td>\n",
              "      <td>0</td>\n",
              "      <td>0</td>\n",
              "      <td>0</td>\n",
              "      <td>0</td>\n",
              "      <td>0</td>\n",
              "      <td>0</td>\n",
              "      <td>0</td>\n",
              "      <td>0</td>\n",
              "      <td>0</td>\n",
              "      <td>0</td>\n",
              "      <td>0</td>\n",
              "      <td>0</td>\n",
              "      <td>0</td>\n",
              "      <td>0</td>\n",
              "      <td>0</td>\n",
              "      <td>0</td>\n",
              "      <td>0</td>\n",
              "      <td>0</td>\n",
              "      <td>0</td>\n",
              "      <td>0</td>\n",
              "      <td>0</td>\n",
              "      <td>0</td>\n",
              "      <td>0</td>\n",
              "      <td>1</td>\n",
              "      <td>0</td>\n",
              "      <td>0</td>\n",
              "      <td>0</td>\n",
              "    </tr>\n",
              "    <tr>\n",
              "      <th>4</th>\n",
              "      <td>India</td>\n",
              "      <td>0</td>\n",
              "      <td>0</td>\n",
              "      <td>0</td>\n",
              "      <td>0</td>\n",
              "      <td>0</td>\n",
              "      <td>1</td>\n",
              "      <td>0</td>\n",
              "      <td>0</td>\n",
              "      <td>0</td>\n",
              "      <td>0</td>\n",
              "      <td>0</td>\n",
              "      <td>0</td>\n",
              "      <td>0</td>\n",
              "      <td>0</td>\n",
              "      <td>0</td>\n",
              "      <td>0</td>\n",
              "      <td>0</td>\n",
              "      <td>0</td>\n",
              "      <td>0</td>\n",
              "      <td>0</td>\n",
              "      <td>0</td>\n",
              "      <td>0</td>\n",
              "      <td>0</td>\n",
              "      <td>0</td>\n",
              "      <td>0</td>\n",
              "      <td>0</td>\n",
              "      <td>0</td>\n",
              "      <td>0</td>\n",
              "      <td>0</td>\n",
              "      <td>0</td>\n",
              "      <td>0</td>\n",
              "      <td>1</td>\n",
              "      <td>0</td>\n",
              "      <td>0</td>\n",
              "      <td>0</td>\n",
              "    </tr>\n",
              "  </tbody>\n",
              "</table>\n",
              "</div>"
            ],
            "text/plain": [
              "      Winner  Team_1_Afghanistan  ...  Team_2_West Indies  Team_2_Zimbabwe\n",
              "0  Sri Lanka                   0  ...                   0                0\n",
              "1  Sri Lanka                   0  ...                   0                0\n",
              "2      India                   0  ...                   0                0\n",
              "3  Sri Lanka                   0  ...                   0                0\n",
              "4      India                   0  ...                   0                0\n",
              "\n",
              "[5 rows x 36 columns]"
            ]
          },
          "metadata": {
            "tags": []
          },
          "execution_count": 11
        }
      ]
    },
    {
      "cell_type": "code",
      "metadata": {
        "colab": {
          "base_uri": "https://localhost:8080/"
        },
        "id": "nlZ4bbW7fOoC",
        "outputId": "4c814091-c6a5-4450-c452-57e8ff6964db"
      },
      "source": [
        "X=final_result.drop(['Winner'],axis=1)\n",
        "y=final_result['Winner']\n",
        "print(X,y)\n",
        "X_train,X_test,y_train,y_test=train_test_split(X,y,test_size=0.3,random_state=42)"
      ],
      "execution_count": null,
      "outputs": [
        {
          "output_type": "stream",
          "text": [
            "     Team_1_Afghanistan  Team_1_Australia  ...  Team_2_West Indies  Team_2_Zimbabwe\n",
            "0                     0                 0  ...                   0                0\n",
            "1                     0                 0  ...                   0                0\n",
            "2                     0                 0  ...                   0                0\n",
            "3                     0                 0  ...                   0                0\n",
            "4                     0                 0  ...                   0                0\n",
            "..                  ...               ...  ...                 ...              ...\n",
            "933                   0                 0  ...                   0                0\n",
            "940                   0                 0  ...                   0                0\n",
            "986                   0                 0  ...                   0                0\n",
            "988                   0                 0  ...                   0                0\n",
            "992                   0                 0  ...                   0                0\n",
            "\n",
            "[894 rows x 35 columns] 0         Sri Lanka\n",
            "1         Sri Lanka\n",
            "2             India\n",
            "3         Sri Lanka\n",
            "4             India\n",
            "           ...     \n",
            "933     New Zealand\n",
            "940    South Africa\n",
            "986    South Africa\n",
            "988    South Africa\n",
            "992    South Africa\n",
            "Name: Winner, Length: 894, dtype: object\n"
          ],
          "name": "stdout"
        }
      ]
    },
    {
      "cell_type": "code",
      "metadata": {
        "colab": {
          "base_uri": "https://localhost:8080/"
        },
        "id": "vbXG3OVHfRPz",
        "outputId": "c7c7c5b8-9135-4987-c837-b3dbcce92f21"
      },
      "source": [
        "model=LogisticRegression()\n",
        "model.fit(X_train,y_train)\n",
        "train_score=model.score(X_train,y_train)\n",
        "test_score=model.score(X_test,y_test)\n",
        "print(\"Traning accuracy: \",train_score)\n",
        "print(\"Testing accuracy: \",test_score)"
      ],
      "execution_count": null,
      "outputs": [
        {
          "output_type": "stream",
          "text": [
            "Traning accuracy:  0.7216\n",
            "Testing accuracy:  0.587360594795539\n"
          ],
          "name": "stdout"
        }
      ]
    },
    {
      "cell_type": "code",
      "metadata": {
        "id": "3HuMGqnEfTMo",
        "colab": {
          "base_uri": "https://localhost:8080/"
        },
        "outputId": "6e5634f9-9de9-402a-c553-093ab6718ee3"
      },
      "source": [
        "y_pred=model.predict(X_test)\n",
        "y_pred"
      ],
      "execution_count": null,
      "outputs": [
        {
          "output_type": "execute_result",
          "data": {
            "text/plain": [
              "array(['England', 'South Africa', 'Pakistan', 'Sri Lanka', 'West Indies',\n",
              "       'Sri Lanka', 'New Zealand', 'India', 'Pakistan', 'India',\n",
              "       'Australia', 'India', 'New Zealand', 'Sri Lanka', 'England',\n",
              "       'South Africa', 'New Zealand', 'Afghanistan', 'New Zealand',\n",
              "       'New Zealand', 'Australia', 'India', 'Pakistan', 'England',\n",
              "       'South Africa', 'West Indies', 'New Zealand', 'England',\n",
              "       'Afghanistan', 'India', 'New Zealand', 'England', 'India',\n",
              "       'Sri Lanka', 'New Zealand', 'England', 'India', 'India',\n",
              "       'Afghanistan', 'India', 'England', 'New Zealand', 'England',\n",
              "       'India', 'Pakistan', 'Pakistan', 'India', 'India', 'England',\n",
              "       'Sri Lanka', 'Australia', 'South Africa', 'Bangladesh', 'India',\n",
              "       'West Indies', 'Australia', 'Sri Lanka', 'New Zealand', 'India',\n",
              "       'South Africa', 'Afghanistan', 'Australia', 'England', 'England',\n",
              "       'India', 'Australia', 'India', 'Sri Lanka', 'England', 'Australia',\n",
              "       'England', 'England', 'India', 'South Africa', 'New Zealand',\n",
              "       'South Africa', 'South Africa', 'Zimbabwe', 'Bangladesh',\n",
              "       'England', 'Australia', 'Bangladesh', 'Australia', 'Sri Lanka',\n",
              "       'Australia', 'New Zealand', 'Australia', 'Sri Lanka',\n",
              "       'West Indies', 'England', 'India', 'South Africa', 'England',\n",
              "       'New Zealand', 'England', 'India', 'England', 'Pakistan',\n",
              "       'Sri Lanka', 'India', 'Afghanistan', 'West Indies', 'Sri Lanka',\n",
              "       'Afghanistan', 'Zimbabwe', 'Sri Lanka', 'India', 'England',\n",
              "       'Sri Lanka', 'Australia', 'Afghanistan', 'Sri Lanka', 'Pakistan',\n",
              "       'England', 'Australia', 'South Africa', 'India', 'India',\n",
              "       'Sri Lanka', 'India', 'Pakistan', 'Sri Lanka', 'Sri Lanka',\n",
              "       'England', 'Pakistan', 'England', 'Afghanistan', 'Pakistan',\n",
              "       'South Africa', 'Zimbabwe', 'India', 'England', 'New Zealand',\n",
              "       'Pakistan', 'India', 'India', 'Afghanistan', 'India', 'England',\n",
              "       'Sri Lanka', 'India', 'Afghanistan', 'Sri Lanka', 'West Indies',\n",
              "       'no result', 'India', 'Sri Lanka', 'West Indies', 'West Indies',\n",
              "       'England', 'New Zealand', 'Zimbabwe', 'India', 'Sri Lanka',\n",
              "       'England', 'India', 'Pakistan', 'Bangladesh', 'England',\n",
              "       'Sri Lanka', 'Australia', 'South Africa', 'Australia', 'Pakistan',\n",
              "       'India', 'India', 'Bangladesh', 'South Africa', 'South Africa',\n",
              "       'Sri Lanka', 'Bangladesh', 'Sri Lanka', 'India', 'India',\n",
              "       'Australia', 'South Africa', 'England', 'Pakistan', 'Australia',\n",
              "       'Sri Lanka', 'Afghanistan', 'Australia', 'England', 'Afghanistan',\n",
              "       'Sri Lanka', 'India', 'Pakistan', 'England', 'England',\n",
              "       'South Africa', 'England', 'West Indies', 'India', 'Bangladesh',\n",
              "       'India', 'Australia', 'Sri Lanka', 'Pakistan', 'Pakistan',\n",
              "       'Sri Lanka', 'England', 'South Africa', 'England', 'Afghanistan',\n",
              "       'New Zealand', 'England', 'Pakistan', 'Sri Lanka', 'New Zealand',\n",
              "       'Australia', 'New Zealand', 'Sri Lanka', 'England', 'New Zealand',\n",
              "       'England', 'Australia', 'Australia', 'Australia', 'South Africa',\n",
              "       'Australia', 'Australia', 'Pakistan', 'Sri Lanka', 'Australia',\n",
              "       'England', 'Sri Lanka', 'New Zealand', 'Afghanistan',\n",
              "       'New Zealand', 'India', 'Sri Lanka', 'Australia', 'India', 'India',\n",
              "       'Pakistan', 'Australia', 'Pakistan', 'West Indies', 'Australia',\n",
              "       'Sri Lanka', 'New Zealand', 'Australia', 'Australia', 'England',\n",
              "       'England', 'India', 'New Zealand', 'Afghanistan', 'England',\n",
              "       'Australia', 'Bangladesh', 'South Africa', 'England', 'England',\n",
              "       'India', 'no result', 'Pakistan', 'New Zealand', 'England',\n",
              "       'India', 'Sri Lanka', 'Sri Lanka', 'England', 'Sri Lanka',\n",
              "       'Australia', 'Sri Lanka', 'India', 'England', 'Australia'],\n",
              "      dtype=object)"
            ]
          },
          "metadata": {
            "tags": []
          },
          "execution_count": 40
        }
      ]
    },
    {
      "cell_type": "code",
      "metadata": {
        "colab": {
          "base_uri": "https://localhost:8080/",
          "height": 602
        },
        "id": "0LP5o1-DsDhR",
        "outputId": "a40036a2-c67a-498e-e449-8e370f9294a9"
      },
      "source": [
        "x_train=np.arange(0,len(X_train),1)\n",
        "plt.scatter(x_train,y_train)\n",
        "plt.plot(x_train,y_pred,color='red')\n",
        "plt.show()"
      ],
      "execution_count": null,
      "outputs": [
        {
          "output_type": "error",
          "ename": "ValueError",
          "evalue": "ignored",
          "traceback": [
            "\u001b[0;31m---------------------------------------------------------------------------\u001b[0m",
            "\u001b[0;31mValueError\u001b[0m                                Traceback (most recent call last)",
            "\u001b[0;32m<ipython-input-43-a734d5f62585>\u001b[0m in \u001b[0;36m<module>\u001b[0;34m()\u001b[0m\n\u001b[1;32m      1\u001b[0m \u001b[0mx_train\u001b[0m\u001b[0;34m=\u001b[0m\u001b[0mnp\u001b[0m\u001b[0;34m.\u001b[0m\u001b[0marange\u001b[0m\u001b[0;34m(\u001b[0m\u001b[0;36m0\u001b[0m\u001b[0;34m,\u001b[0m\u001b[0mlen\u001b[0m\u001b[0;34m(\u001b[0m\u001b[0mX_train\u001b[0m\u001b[0;34m)\u001b[0m\u001b[0;34m,\u001b[0m\u001b[0;36m1\u001b[0m\u001b[0;34m)\u001b[0m\u001b[0;34m\u001b[0m\u001b[0;34m\u001b[0m\u001b[0m\n\u001b[1;32m      2\u001b[0m \u001b[0mplt\u001b[0m\u001b[0;34m.\u001b[0m\u001b[0mscatter\u001b[0m\u001b[0;34m(\u001b[0m\u001b[0mx_train\u001b[0m\u001b[0;34m,\u001b[0m\u001b[0my_train\u001b[0m\u001b[0;34m)\u001b[0m\u001b[0;34m\u001b[0m\u001b[0;34m\u001b[0m\u001b[0m\n\u001b[0;32m----> 3\u001b[0;31m \u001b[0mplt\u001b[0m\u001b[0;34m.\u001b[0m\u001b[0mplot\u001b[0m\u001b[0;34m(\u001b[0m\u001b[0mx_train\u001b[0m\u001b[0;34m,\u001b[0m\u001b[0my_pred\u001b[0m\u001b[0;34m,\u001b[0m\u001b[0mcolor\u001b[0m\u001b[0;34m=\u001b[0m\u001b[0;34m'red'\u001b[0m\u001b[0;34m)\u001b[0m\u001b[0;34m\u001b[0m\u001b[0;34m\u001b[0m\u001b[0m\n\u001b[0m\u001b[1;32m      4\u001b[0m \u001b[0mplt\u001b[0m\u001b[0;34m.\u001b[0m\u001b[0mshow\u001b[0m\u001b[0;34m(\u001b[0m\u001b[0;34m)\u001b[0m\u001b[0;34m\u001b[0m\u001b[0;34m\u001b[0m\u001b[0m\n",
            "\u001b[0;32m/usr/local/lib/python3.7/dist-packages/matplotlib/pyplot.py\u001b[0m in \u001b[0;36mplot\u001b[0;34m(scalex, scaley, data, *args, **kwargs)\u001b[0m\n\u001b[1;32m   2761\u001b[0m     return gca().plot(\n\u001b[1;32m   2762\u001b[0m         *args, scalex=scalex, scaley=scaley, **({\"data\": data} if data\n\u001b[0;32m-> 2763\u001b[0;31m         is not None else {}), **kwargs)\n\u001b[0m\u001b[1;32m   2764\u001b[0m \u001b[0;34m\u001b[0m\u001b[0m\n\u001b[1;32m   2765\u001b[0m \u001b[0;34m\u001b[0m\u001b[0m\n",
            "\u001b[0;32m/usr/local/lib/python3.7/dist-packages/matplotlib/axes/_axes.py\u001b[0m in \u001b[0;36mplot\u001b[0;34m(self, scalex, scaley, data, *args, **kwargs)\u001b[0m\n\u001b[1;32m   1645\u001b[0m         \"\"\"\n\u001b[1;32m   1646\u001b[0m         \u001b[0mkwargs\u001b[0m \u001b[0;34m=\u001b[0m \u001b[0mcbook\u001b[0m\u001b[0;34m.\u001b[0m\u001b[0mnormalize_kwargs\u001b[0m\u001b[0;34m(\u001b[0m\u001b[0mkwargs\u001b[0m\u001b[0;34m,\u001b[0m \u001b[0mmlines\u001b[0m\u001b[0;34m.\u001b[0m\u001b[0mLine2D\u001b[0m\u001b[0;34m)\u001b[0m\u001b[0;34m\u001b[0m\u001b[0;34m\u001b[0m\u001b[0m\n\u001b[0;32m-> 1647\u001b[0;31m         \u001b[0mlines\u001b[0m \u001b[0;34m=\u001b[0m \u001b[0;34m[\u001b[0m\u001b[0;34m*\u001b[0m\u001b[0mself\u001b[0m\u001b[0;34m.\u001b[0m\u001b[0m_get_lines\u001b[0m\u001b[0;34m(\u001b[0m\u001b[0;34m*\u001b[0m\u001b[0margs\u001b[0m\u001b[0;34m,\u001b[0m \u001b[0mdata\u001b[0m\u001b[0;34m=\u001b[0m\u001b[0mdata\u001b[0m\u001b[0;34m,\u001b[0m \u001b[0;34m**\u001b[0m\u001b[0mkwargs\u001b[0m\u001b[0;34m)\u001b[0m\u001b[0;34m]\u001b[0m\u001b[0;34m\u001b[0m\u001b[0;34m\u001b[0m\u001b[0m\n\u001b[0m\u001b[1;32m   1648\u001b[0m         \u001b[0;32mfor\u001b[0m \u001b[0mline\u001b[0m \u001b[0;32min\u001b[0m \u001b[0mlines\u001b[0m\u001b[0;34m:\u001b[0m\u001b[0;34m\u001b[0m\u001b[0;34m\u001b[0m\u001b[0m\n\u001b[1;32m   1649\u001b[0m             \u001b[0mself\u001b[0m\u001b[0;34m.\u001b[0m\u001b[0madd_line\u001b[0m\u001b[0;34m(\u001b[0m\u001b[0mline\u001b[0m\u001b[0;34m)\u001b[0m\u001b[0;34m\u001b[0m\u001b[0;34m\u001b[0m\u001b[0m\n",
            "\u001b[0;32m/usr/local/lib/python3.7/dist-packages/matplotlib/axes/_base.py\u001b[0m in \u001b[0;36m__call__\u001b[0;34m(self, *args, **kwargs)\u001b[0m\n\u001b[1;32m    214\u001b[0m                 \u001b[0mthis\u001b[0m \u001b[0;34m+=\u001b[0m \u001b[0margs\u001b[0m\u001b[0;34m[\u001b[0m\u001b[0;36m0\u001b[0m\u001b[0;34m]\u001b[0m\u001b[0;34m,\u001b[0m\u001b[0;34m\u001b[0m\u001b[0;34m\u001b[0m\u001b[0m\n\u001b[1;32m    215\u001b[0m                 \u001b[0margs\u001b[0m \u001b[0;34m=\u001b[0m \u001b[0margs\u001b[0m\u001b[0;34m[\u001b[0m\u001b[0;36m1\u001b[0m\u001b[0;34m:\u001b[0m\u001b[0;34m]\u001b[0m\u001b[0;34m\u001b[0m\u001b[0;34m\u001b[0m\u001b[0m\n\u001b[0;32m--> 216\u001b[0;31m             \u001b[0;32myield\u001b[0m \u001b[0;32mfrom\u001b[0m \u001b[0mself\u001b[0m\u001b[0;34m.\u001b[0m\u001b[0m_plot_args\u001b[0m\u001b[0;34m(\u001b[0m\u001b[0mthis\u001b[0m\u001b[0;34m,\u001b[0m \u001b[0mkwargs\u001b[0m\u001b[0;34m)\u001b[0m\u001b[0;34m\u001b[0m\u001b[0;34m\u001b[0m\u001b[0m\n\u001b[0m\u001b[1;32m    217\u001b[0m \u001b[0;34m\u001b[0m\u001b[0m\n\u001b[1;32m    218\u001b[0m     \u001b[0;32mdef\u001b[0m \u001b[0mget_next_color\u001b[0m\u001b[0;34m(\u001b[0m\u001b[0mself\u001b[0m\u001b[0;34m)\u001b[0m\u001b[0;34m:\u001b[0m\u001b[0;34m\u001b[0m\u001b[0;34m\u001b[0m\u001b[0m\n",
            "\u001b[0;32m/usr/local/lib/python3.7/dist-packages/matplotlib/axes/_base.py\u001b[0m in \u001b[0;36m_plot_args\u001b[0;34m(self, tup, kwargs)\u001b[0m\n\u001b[1;32m    340\u001b[0m \u001b[0;34m\u001b[0m\u001b[0m\n\u001b[1;32m    341\u001b[0m         \u001b[0;32mif\u001b[0m \u001b[0mx\u001b[0m\u001b[0;34m.\u001b[0m\u001b[0mshape\u001b[0m\u001b[0;34m[\u001b[0m\u001b[0;36m0\u001b[0m\u001b[0;34m]\u001b[0m \u001b[0;34m!=\u001b[0m \u001b[0my\u001b[0m\u001b[0;34m.\u001b[0m\u001b[0mshape\u001b[0m\u001b[0;34m[\u001b[0m\u001b[0;36m0\u001b[0m\u001b[0;34m]\u001b[0m\u001b[0;34m:\u001b[0m\u001b[0;34m\u001b[0m\u001b[0;34m\u001b[0m\u001b[0m\n\u001b[0;32m--> 342\u001b[0;31m             raise ValueError(f\"x and y must have same first dimension, but \"\n\u001b[0m\u001b[1;32m    343\u001b[0m                              f\"have shapes {x.shape} and {y.shape}\")\n\u001b[1;32m    344\u001b[0m         \u001b[0;32mif\u001b[0m \u001b[0mx\u001b[0m\u001b[0;34m.\u001b[0m\u001b[0mndim\u001b[0m \u001b[0;34m>\u001b[0m \u001b[0;36m2\u001b[0m \u001b[0;32mor\u001b[0m \u001b[0my\u001b[0m\u001b[0;34m.\u001b[0m\u001b[0mndim\u001b[0m \u001b[0;34m>\u001b[0m \u001b[0;36m2\u001b[0m\u001b[0;34m:\u001b[0m\u001b[0;34m\u001b[0m\u001b[0;34m\u001b[0m\u001b[0m\n",
            "\u001b[0;31mValueError\u001b[0m: x and y must have same first dimension, but have shapes (625,) and (269,)"
          ]
        },
        {
          "output_type": "display_data",
          "data": {
            "image/png": "[encoded data removed]",
            "text/plain": [
              "<Figure size 432x288 with 1 Axes>"
            ]
          },
          "metadata": {
            "tags": [],
            "needs_background": "light"
          }
        }
      ]
    },
    {
      "cell_type": "code",
      "metadata": {
        "id": "kPVTEwebsQNx"
      },
      "source": [
        ""
      ],
      "execution_count": null,
      "outputs": []
    }
  ]
}