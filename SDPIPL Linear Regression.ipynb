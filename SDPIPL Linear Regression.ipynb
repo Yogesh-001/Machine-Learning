{
  "nbformat": 4,
  "nbformat_minor": 0,
  "metadata": {
    "colab": {
      "name": "SDPIPL.ipynb",
      "provenance": []
    },
    "kernelspec": {
      "name": "python3",
      "display_name": "Python 3"
    },
    "language_info": {
      "name": "python"
    }
  },
  "cells": [
    {
      "cell_type": "code",
      "metadata": {
        "id": "y5Kzawxylvk-"
      },
      "source": [
        "import pandas as pd\n",
        "import numpy as np\n",
        "import matplotlib.pyplot as plt\n",
        "import seaborn as sns\n",
        "from sklearn.model_selection import train_test_split\n",
        "from sklearn import linear_model\n",
        "from sklearn.metrics import r2_score\n",
        "from sklearn.linear_model import LogisticRegression\n",
        "from sklearn.linear_model import LinearRegression"
      ],
      "execution_count": null,
      "outputs": []
    },
    {
      "cell_type": "code",
      "metadata": {
        "id": "lg3kH8yemJtw"
      },
      "source": [
        "IPL=pd.read_csv('IPL2018-2021.csv')"
      ],
      "execution_count": null,
      "outputs": []
    },
    {
      "cell_type": "code",
      "metadata": {
        "colab": {
          "base_uri": "https://localhost:8080/",
          "height": 195
        },
        "id": "rn5HVG6Y4Vsm",
        "outputId": "b6650d6d-946c-49b5-88e2-bb4b920343ad"
      },
      "source": [
        "conditions = [(df['Teams']==\"SunRisers Hyderabad\"),(df['Teams']==\"Chennai Super Kings\"),(df['Teams']==\"Kolkata Knight Riders\"),(df['Teams']==\"Rajastan Royals\"),(df['Teams']==\"Mumbai Indians\"),(df['Teams']==\"Royal Challengers Bangalore\"),(df['Teams']==\"Punjab KIngs\"),(df['Teams']==\"Delhi Capitals\")]\n",
        "Values=[\"SRH\",\"CSK\",\"KKR\",\"RR\",\"MI\",\"RCB\",\"PBKS\",\"DC\"]\n",
        "df['Short']=np.select(conditions,Values)\n",
        "df.head()"
      ],
      "execution_count": null,
      "outputs": [
        {
          "output_type": "execute_result",
          "data": {
            "text/html": [
              "<div>\n",
              "<style scoped>\n",
              "    .dataframe tbody tr th:only-of-type {\n",
              "        vertical-align: middle;\n",
              "    }\n",
              "\n",
              "    .dataframe tbody tr th {\n",
              "        vertical-align: top;\n",
              "    }\n",
              "\n",
              "    .dataframe thead th {\n",
              "        text-align: right;\n",
              "    }\n",
              "</style>\n",
              "<table border=\"1\" class=\"dataframe\">\n",
              "  <thead>\n",
              "    <tr style=\"text-align: right;\">\n",
              "      <th></th>\n",
              "      <th>Teams</th>\n",
              "      <th>Matches</th>\n",
              "      <th>Wins</th>\n",
              "      <th>Loss</th>\n",
              "      <th>Short</th>\n",
              "    </tr>\n",
              "  </thead>\n",
              "  <tbody>\n",
              "    <tr>\n",
              "      <th>0</th>\n",
              "      <td>SunRisers Hyderabad</td>\n",
              "      <td>14</td>\n",
              "      <td>9</td>\n",
              "      <td>5</td>\n",
              "      <td>SRH</td>\n",
              "    </tr>\n",
              "    <tr>\n",
              "      <th>1</th>\n",
              "      <td>Chennai Super Kings</td>\n",
              "      <td>14</td>\n",
              "      <td>9</td>\n",
              "      <td>5</td>\n",
              "      <td>CSK</td>\n",
              "    </tr>\n",
              "    <tr>\n",
              "      <th>2</th>\n",
              "      <td>Kolkata Knight Riders</td>\n",
              "      <td>14</td>\n",
              "      <td>8</td>\n",
              "      <td>6</td>\n",
              "      <td>KKR</td>\n",
              "    </tr>\n",
              "    <tr>\n",
              "      <th>3</th>\n",
              "      <td>Rajastan Royals</td>\n",
              "      <td>14</td>\n",
              "      <td>7</td>\n",
              "      <td>7</td>\n",
              "      <td>RR</td>\n",
              "    </tr>\n",
              "    <tr>\n",
              "      <th>4</th>\n",
              "      <td>Mumbai Indians</td>\n",
              "      <td>14</td>\n",
              "      <td>6</td>\n",
              "      <td>8</td>\n",
              "      <td>MI</td>\n",
              "    </tr>\n",
              "  </tbody>\n",
              "</table>\n",
              "</div>"
            ],
            "text/plain": [
              "                   Teams  Matches  Wins   Loss Short\n",
              "0    SunRisers Hyderabad       14      9     5   SRH\n",
              "1    Chennai Super Kings       14      9     5   CSK\n",
              "2  Kolkata Knight Riders       14      8     6   KKR\n",
              "3        Rajastan Royals       14      7     7    RR\n",
              "4         Mumbai Indians       14      6     8    MI"
            ]
          },
          "metadata": {
            "tags": []
          },
          "execution_count": 77
        }
      ]
    },
    {
      "cell_type": "code",
      "metadata": {
        "colab": {
          "base_uri": "https://localhost:8080/",
          "height": 195
        },
        "id": "RjhvIrt9mb4_",
        "outputId": "fce10008-fe57-4de7-fa8d-8888a9d9d89e"
      },
      "source": [
        "IPL.head()"
      ],
      "execution_count": null,
      "outputs": [
        {
          "output_type": "execute_result",
          "data": {
            "text/html": [
              "<div>\n",
              "<style scoped>\n",
              "    .dataframe tbody tr th:only-of-type {\n",
              "        vertical-align: middle;\n",
              "    }\n",
              "\n",
              "    .dataframe tbody tr th {\n",
              "        vertical-align: top;\n",
              "    }\n",
              "\n",
              "    .dataframe thead th {\n",
              "        text-align: right;\n",
              "    }\n",
              "</style>\n",
              "<table border=\"1\" class=\"dataframe\">\n",
              "  <thead>\n",
              "    <tr style=\"text-align: right;\">\n",
              "      <th></th>\n",
              "      <th>Teams</th>\n",
              "      <th>Matches</th>\n",
              "      <th>Wins</th>\n",
              "      <th>Loss</th>\n",
              "      <th>Short</th>\n",
              "    </tr>\n",
              "  </thead>\n",
              "  <tbody>\n",
              "    <tr>\n",
              "      <th>0</th>\n",
              "      <td>SunRisers Hyderabad</td>\n",
              "      <td>14</td>\n",
              "      <td>9</td>\n",
              "      <td>5</td>\n",
              "      <td>SRH</td>\n",
              "    </tr>\n",
              "    <tr>\n",
              "      <th>1</th>\n",
              "      <td>Chennai Super Kings</td>\n",
              "      <td>14</td>\n",
              "      <td>9</td>\n",
              "      <td>5</td>\n",
              "      <td>CSK</td>\n",
              "    </tr>\n",
              "    <tr>\n",
              "      <th>2</th>\n",
              "      <td>Kolkata Knight Riders</td>\n",
              "      <td>14</td>\n",
              "      <td>8</td>\n",
              "      <td>6</td>\n",
              "      <td>KKR</td>\n",
              "    </tr>\n",
              "    <tr>\n",
              "      <th>3</th>\n",
              "      <td>Rajastan Royals</td>\n",
              "      <td>14</td>\n",
              "      <td>7</td>\n",
              "      <td>7</td>\n",
              "      <td>RR</td>\n",
              "    </tr>\n",
              "    <tr>\n",
              "      <th>4</th>\n",
              "      <td>Mumbai Indians</td>\n",
              "      <td>14</td>\n",
              "      <td>6</td>\n",
              "      <td>8</td>\n",
              "      <td>MI</td>\n",
              "    </tr>\n",
              "  </tbody>\n",
              "</table>\n",
              "</div>"
            ],
            "text/plain": [
              "                   Teams  Matches  Wins   Loss Short\n",
              "0    SunRisers Hyderabad       14      9     5   SRH\n",
              "1    Chennai Super Kings       14      9     5   CSK\n",
              "2  Kolkata Knight Riders       14      8     6   KKR\n",
              "3        Rajastan Royals       14      7     7    RR\n",
              "4         Mumbai Indians       14      6     8    MI"
            ]
          },
          "metadata": {
            "tags": []
          },
          "execution_count": 78
        }
      ]
    },
    {
      "cell_type": "code",
      "metadata": {
        "id": "_ADTZ2AomfF-"
      },
      "source": [
        "df=pd.DataFrame(IPL)\n",
        "df.head()\n",
        "a=df['Wins ']"
      ],
      "execution_count": null,
      "outputs": []
    },
    {
      "cell_type": "code",
      "metadata": {
        "colab": {
          "base_uri": "https://localhost:8080/"
        },
        "id": "8hD5jZG1mrC4",
        "outputId": "c8e810bb-0ecc-4303-ef57-e4e43f4c5541"
      },
      "source": [
        "x=np.array(a)\n",
        "y=np.array(df['Loss'])\n",
        "x_train, x_test, y_train, y_test = train_test_split(x,y,test_size=0.2,random_state=0)\n",
        "print(x)\n",
        "#print(y)"
      ],
      "execution_count": null,
      "outputs": [
        {
          "output_type": "stream",
          "text": [
            "[9 9 8 7 6 6 6 5 9 9 9 6 6 6 5 5 9 8 7 7 7 6 6 6 6 5 5 4 3 3 2 1]\n"
          ],
          "name": "stdout"
        }
      ]
    },
    {
      "cell_type": "code",
      "metadata": {
        "colab": {
          "base_uri": "https://localhost:8080/"
        },
        "id": "pXA2Zv3Umy5K",
        "outputId": "e892e8c2-f22e-4de9-e6b4-7c81a4391ef8"
      },
      "source": [
        "x_train= x_train.reshape(-1, 1)\n",
        "x_test = x_test.reshape(-1, 1)\n",
        "regressor= LinearRegression()\n",
        "regressor.fit(x_train,y_train)\n",
        "print(\"Training Complete..\")"
      ],
      "execution_count": null,
      "outputs": [
        {
          "output_type": "stream",
          "text": [
            "Training Complete..\n"
          ],
          "name": "stdout"
        }
      ]
    },
    {
      "cell_type": "code",
      "metadata": {
        "colab": {
          "base_uri": "https://localhost:8080/",
          "height": 268
        },
        "id": "0r5baKnYuTM9",
        "outputId": "adcf0e2e-5da0-4ec3-f1c0-0438686b21b1"
      },
      "source": [
        "y_pred=regressor.predict(x_test)\n",
        "plt.scatter(x,y)\n",
        "plt.plot(x_test,y_pred,color='red')\n",
        "plt.show()"
      ],
      "execution_count": null,
      "outputs": [
        {
          "output_type": "display_data",
          "data": {
            "image/png": "[encoded data removed]",
            "text/plain": [
              "<Figure size 432x288 with 1 Axes>"
            ]
          },
          "metadata": {
            "tags": []
          }
        }
      ]
    },
    {
      "cell_type": "code",
      "metadata": {
        "colab": {
          "base_uri": "https://localhost:8080/"
        },
        "id": "ZzbsnrGFzE_S",
        "outputId": "d9582401-a4c2-4dff-f2e6-5e72ae171640"
      },
      "source": [
        "A=regressor.score(x_train,y_train)*100\n",
        "print(A*100,'%')"
      ],
      "execution_count": null,
      "outputs": [
        {
          "output_type": "stream",
          "text": [
            "58.18351079303841 %\n"
          ],
          "name": "stdout"
        }
      ]
    },
    {
      "cell_type": "code",
      "metadata": {
        "colab": {
          "base_uri": "https://localhost:8080/",
          "height": 77
        },
        "id": "QbxyvZ3SzoNi",
        "outputId": "f61868da-3100-4460-a09e-7777063098fb"
      },
      "source": [
        "fd = pd.DataFrame({'Actual': [y_test], 'Predicted': [y_pred]})\n",
        "fd"
      ],
      "execution_count": null,
      "outputs": [
        {
          "output_type": "execute_result",
          "data": {
            "text/html": [
              "<div>\n",
              "<style scoped>\n",
              "    .dataframe tbody tr th:only-of-type {\n",
              "        vertical-align: middle;\n",
              "    }\n",
              "\n",
              "    .dataframe tbody tr th {\n",
              "        vertical-align: top;\n",
              "    }\n",
              "\n",
              "    .dataframe thead th {\n",
              "        text-align: right;\n",
              "    }\n",
              "</style>\n",
              "<table border=\"1\" class=\"dataframe\">\n",
              "  <thead>\n",
              "    <tr style=\"text-align: right;\">\n",
              "      <th></th>\n",
              "      <th>Actual</th>\n",
              "      <th>Predicted</th>\n",
              "    </tr>\n",
              "  </thead>\n",
              "  <tbody>\n",
              "    <tr>\n",
              "      <th>0</th>\n",
              "      <td>[8, 8, 5, 6, 5, 8, 4]</td>\n",
              "      <td>[6.08, 6.08, 6.315294117647059, 6.236862745098...</td>\n",
              "    </tr>\n",
              "  </tbody>\n",
              "</table>\n",
              "</div>"
            ],
            "text/plain": [
              "                  Actual                                          Predicted\n",
              "0  [8, 8, 5, 6, 5, 8, 4]  [6.08, 6.08, 6.315294117647059, 6.236862745098..."
            ]
          },
          "metadata": {
            "tags": []
          },
          "execution_count": 84
        }
      ]
    },
    {
      "cell_type": "code",
      "metadata": {
        "colab": {
          "base_uri": "https://localhost:8080/"
        },
        "id": "j8H3IGGI0OFt",
        "outputId": "6b1be187-9bdf-4ada-ef45-97fd4fc5a9d0"
      },
      "source": [
        "k=df.head(8)\n",
        "print(k)"
      ],
      "execution_count": null,
      "outputs": [
        {
          "output_type": "stream",
          "text": [
            "                         Teams  Matches  Wins   Loss Short\n",
            "0          SunRisers Hyderabad       14      9     5   SRH\n",
            "1          Chennai Super Kings       14      9     5   CSK\n",
            "2        Kolkata Knight Riders       14      8     6   KKR\n",
            "3              Rajastan Royals       14      7     7    RR\n",
            "4               Mumbai Indians       14      6     8    MI\n",
            "5  Royal Challengers Bangalore       14      6     8   RCB\n",
            "6                 Punjab KIngs       14      6     8  PBKS\n",
            "7               Delhi Capitals       14      5     9    DC\n"
          ],
          "name": "stdout"
        }
      ]
    },
    {
      "cell_type": "code",
      "metadata": {
        "colab": {
          "base_uri": "https://localhost:8080/",
          "height": 285
        },
        "id": "RUJLgqBj1gsE",
        "outputId": "5a5d82d5-4cb9-440e-a634-9f59a54706a3"
      },
      "source": [
        "res = sns.scatterplot(x=\"Short\", y=\"Loss\", data=k)"
      ],
      "execution_count": null,
      "outputs": [
        {
          "output_type": "display_data",
          "data": {
            "image/png": "[encoded data removed]",
            "text/plain": [
              "<Figure size 432x288 with 1 Axes>"
            ]
          },
          "metadata": {
            "tags": []
          }
        }
      ]
    },
    {
      "cell_type": "code",
      "metadata": {
        "colab": {
          "base_uri": "https://localhost:8080/",
          "height": 285
        },
        "id": "1045rJPt3g15",
        "outputId": "4edfd0ab-bc39-4bac-f4e0-fc4eb0006e48"
      },
      "source": [
        "resu = sns.countplot(x=IPL['Loss'])"
      ],
      "execution_count": null,
      "outputs": [
        {
          "output_type": "display_data",
          "data": {
            "image/png": "[encoded data removed]",
            "text/plain": [
              "<Figure size 432x288 with 1 Axes>"
            ]
          },
          "metadata": {
            "tags": []
          }
        }
      ]
    },
    {
      "cell_type": "code",
      "metadata": {
        "id": "L0srXkFJ7f0U"
      },
      "source": [
        ""
      ],
      "execution_count": null,
      "outputs": []
    }
  ]
}